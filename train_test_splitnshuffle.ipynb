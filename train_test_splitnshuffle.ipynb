{
 "cells": [
  {
   "cell_type": "code",
   "execution_count": null,
   "id": "0",
   "metadata": {},
   "outputs": [],
   "source": [
    "import uproot"
   ]
  },
  {
   "cell_type": "code",
   "execution_count": null,
   "id": "1",
   "metadata": {},
   "outputs": [],
   "source": [
    "import numpy as np"
   ]
  },
  {
   "cell_type": "code",
   "execution_count": null,
   "id": "2",
   "metadata": {},
   "outputs": [],
   "source": [
    "rng = np.random.default_rng()"
   ]
  },
  {
   "cell_type": "code",
   "execution_count": null,
   "id": "3",
   "metadata": {},
   "outputs": [],
   "source": [
    "filename1 = \"df_nu_mu_CC.root\"\n",
    "filename2 = \"df_nu_tau_CC_muonic.root\"\n",
    "train_file_name = \"df_nu_CC_muonic_equal_train.root\"\n",
    "test_file_name = \"df_nu_CC_muonic_equal_test.root\"\n",
    "treename = \"df\""
   ]
  },
  {
   "cell_type": "code",
   "execution_count": null,
   "id": "4",
   "metadata": {},
   "outputs": [],
   "source": [
    "filename1 = \"df_nu_e_CC.root\"\n",
    "filename2 = \"df_nu_tau_CC_hadronic.root\"\n",
    "train_file_name = \"df_nu_CC_non-muonic_equal_new_train.root\"\n",
    "test_file_name = \"df_nu_CC_non-muonic_equal_new_test.root\"\n",
    "treename = \"df\""
   ]
  },
  {
   "cell_type": "code",
   "execution_count": null,
   "id": "5",
   "metadata": {},
   "outputs": [],
   "source": [
    "tree1 = uproot.open(f\"{filename1}:{treename}\")"
   ]
  },
  {
   "cell_type": "code",
   "execution_count": null,
   "id": "6",
   "metadata": {},
   "outputs": [],
   "source": [
    "tree2 = uproot.open(f\"{filename2}:{treename}\")"
   ]
  },
  {
   "cell_type": "code",
   "execution_count": null,
   "id": "7",
   "metadata": {},
   "outputs": [],
   "source": [
    "train_frac = 0.8"
   ]
  },
  {
   "cell_type": "code",
   "execution_count": null,
   "id": "8",
   "metadata": {},
   "outputs": [],
   "source": [
    "train_file = uproot.recreate(train_file_name)\n",
    "test_file = uproot.recreate(test_file_name)"
   ]
  },
  {
   "cell_type": "code",
   "execution_count": null,
   "id": "9",
   "metadata": {},
   "outputs": [],
   "source": [
    "target_dims = (3279, 116)\n",
    "mufilter_dims = (3279, 68)"
   ]
  },
  {
   "cell_type": "code",
   "execution_count": null,
   "id": "10",
   "metadata": {},
   "outputs": [],
   "source": [
    "train_file.mktree(\n",
    "    treename,\n",
    "    {\n",
    "        \"X\": (\">f4\", target_dims),\n",
    "        \"X_mufilter\": (\">f4\", mufilter_dims),\n",
    "        \"start_x\": \">f8\",\n",
    "        \"start_y\": \">f8\",\n",
    "        \"start_z\": \">f8\",\n",
    "        \"nu_energy\": \">f8\",\n",
    "        \"hadron_energy\": \">f8\",\n",
    "        \"lepton_energy\": \">f8\",\n",
    "        \"energy_dep_target\": \">f8\",\n",
    "        \"energy_dep_mufilter\": \">f8\",\n",
    "        \"nu_flavour\": \">i8\",\n",
    "        \"is_cc\": \"bool\",\n",
    "    },\n",
    "    title=\"Dataframe for CNN studies\",\n",
    ")"
   ]
  },
  {
   "cell_type": "code",
   "execution_count": null,
   "id": "11",
   "metadata": {},
   "outputs": [],
   "source": [
    "test_file.mktree(\n",
    "    treename,\n",
    "    {\n",
    "        \"X\": (\">f4\", target_dims),\n",
    "        \"X_mufilter\": (\">f4\", mufilter_dims),\n",
    "        \"start_x\": \">f8\",\n",
    "        \"start_y\": \">f8\",\n",
    "        \"start_z\": \">f8\",\n",
    "        \"nu_energy\": \">f8\",\n",
    "        \"hadron_energy\": \">f8\",\n",
    "        \"lepton_energy\": \">f8\",\n",
    "        \"energy_dep_target\": \">f8\",\n",
    "        \"energy_dep_mufilter\": \">f8\",\n",
    "        \"nu_flavour\": \">i8\",\n",
    "        \"is_cc\": \"bool\",\n",
    "    },\n",
    "    title=\"Dataframe for CNN studies\",\n",
    ")"
   ]
  },
  {
   "cell_type": "code",
   "execution_count": null,
   "id": "12",
   "metadata": {},
   "outputs": [],
   "source": [
    "from tqdm import tqdm"
   ]
  },
  {
   "cell_type": "code",
   "execution_count": null,
   "id": "13",
   "metadata": {},
   "outputs": [],
   "source": [
    "prob = tree2.num_entries / (tree1.num_entries + tree2.num_entries)"
   ]
  },
  {
   "cell_type": "code",
   "execution_count": null,
   "id": "14",
   "metadata": {},
   "outputs": [],
   "source": [
    "tree2.num_entries / tree1.num_entries"
   ]
  },
  {
   "cell_type": "code",
   "execution_count": null,
   "id": "15",
   "metadata": {},
   "outputs": [],
   "source": [
    "print(prob)"
   ]
  },
  {
   "cell_type": "raw",
   "id": "16",
   "metadata": {},
   "source": [
    "gen1 = tree1.iterate(step_size=\"1MB\", library=\"np\")\n",
    "gen2 = tree2.iterate(step_size=\"1MB\", library=\"np\")\n",
    "stop1 = False\n",
    "stop2 = False\n",
    "t = tqdm(total=tree1.num_entries + tree2.num_entries)\n",
    "while not stop1 and not stop2:\n",
    "    batch = None\n",
    "    if rng.binomial(1, prob) and not stop2:\n",
    "        try:\n",
    "            batch = next(gen2)\n",
    "        except StopIteration:\n",
    "            stop2 = True\n",
    "            continue\n",
    "    elif not stop1:\n",
    "        try:\n",
    "            batch = next(gen1)\n",
    "        except StopIteration:\n",
    "            stop1 = True\n",
    "            continue\n",
    "    batch_size = len(batch[\"start_z\"])\n",
    "    batch_partition = rng.binomial(batch_size, train_frac)\n",
    "    train_file[treename].extend({key: batch[key][:batch_partition] for key in batch.keys()})\n",
    "    test_file[treename].extend({key: batch[key][batch_partition:] for key in batch.keys()})\n",
    "    t.update(batch_size)\n",
    "t.close()"
   ]
  },
  {
   "cell_type": "code",
   "execution_count": null,
   "id": "17",
   "metadata": {},
   "outputs": [],
   "source": [
    "from random import shuffle"
   ]
  },
  {
   "cell_type": "code",
   "execution_count": null,
   "id": "18",
   "metadata": {},
   "outputs": [],
   "source": [
    "gen1 = tree1.iterate(step_size=\"10MB\", library=\"np\")\n",
    "gen2 = tree2.iterate(step_size=\"10MB\", library=\"np\")\n",
    "t = tqdm(total=tree1.num_entries + tree2.num_entries)\n",
    "for batch1, batch2 in zip(gen1, gen2):\n",
    "    batch1_size = len(batch1[\"start_z\"])\n",
    "    batch2_size = len(batch2[\"start_z\"])\n",
    "    assert batch1_size == batch1_size\n",
    "    batch_size = batch1_size + batch2_size\n",
    "    batch_partition = rng.binomial(batch_size, train_frac)\n",
    "    indexer = np.concatenate([np.zeros(batch1_size), np.ones(batch2_size)])\n",
    "    shuffle(indexer)\n",
    "    i1 = 0\n",
    "    i2 = 0\n",
    "    for index, sample in enumerate(indexer):\n",
    "        batch = batch2 if sample else batch1\n",
    "        i = i2 if sample else i1\n",
    "        if index < batch_partition:\n",
    "            train_file[treename].extend(\n",
    "                {key: np.array([batch[key][i]]) for key in batch.keys()}\n",
    "            )\n",
    "        else:\n",
    "            test_file[treename].extend(\n",
    "                {key: np.array([batch[key][i]]) for key in batch.keys()}\n",
    "            )\n",
    "        if sample:\n",
    "            i2 += 1\n",
    "        else:\n",
    "            i1 += 1\n",
    "    t.update(batch_size)\n",
    "t.close()"
   ]
  },
  {
   "cell_type": "code",
   "execution_count": null,
   "id": "19",
   "metadata": {},
   "outputs": [],
   "source": [
    "print(train_file[treename].num_entries)\n",
    "print(test_file[treename].num_entries)"
   ]
  },
  {
   "cell_type": "code",
   "execution_count": null,
   "id": "20",
   "metadata": {},
   "outputs": [],
   "source": [
    "train_file.close()\n",
    "test_file.close()"
   ]
  },
  {
   "cell_type": "code",
   "execution_count": null,
   "id": "21",
   "metadata": {},
   "outputs": [],
   "source": []
  }
 ],
 "metadata": {
  "kernelspec": {
   "display_name": "Python 3",
   "language": "python",
   "name": "python3"
  },
  "language_info": {
   "codemirror_mode": {
    "name": "ipython",
    "version": 3
   },
   "file_extension": ".py",
   "mimetype": "text/x-python",
   "name": "python",
   "nbconvert_exporter": "python",
   "pygments_lexer": "ipython3",
   "version": "3.11.9"
  }
 },
 "nbformat": 4,
 "nbformat_minor": 5
}
