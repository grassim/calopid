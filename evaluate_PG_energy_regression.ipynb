{
 "cells": [
  {
   "cell_type": "markdown",
   "id": "0",
   "metadata": {},
   "source": [
    "# Evaluation of CNN energy reconstruction performance"
   ]
  },
  {
   "cell_type": "code",
   "execution_count": null,
   "id": "50a8a93f-e631-4741-a7f9-5291293eab46",
   "metadata": {},
   "outputs": [],
   "source": [
    "import hist\n",
    "import keras\n",
    "import matplotlib.gridspec as grid_spec\n",
    "import matplotlib.pyplot as plt\n",
    "import numpy as np\n",
    "import pandas as pd\n",
    "import scienceplots  # noqa: F401\n",
    "import scipy\n",
    "import sympy\n",
    "import tensorflow as tf\n",
    "import tensorflow.keras.backend as K\n",
    "import uproot\n",
    "from iminuit import Minuit, cost\n",
    "from iminuit.cost import LeastSquares\n",
    "from scipy.stats import linregress\n",
    "from tensorflow.keras.models import load_model\n",
    "\n",
    "from plotting import watermark\n",
    "from preprocessing import reshape_data"
   ]
  },
  {
   "cell_type": "code",
   "execution_count": null,
   "id": "ae4a2309-99b1-42a2-a113-c58f0deca67b",
   "metadata": {},
   "outputs": [],
   "source": [
    "particle = \"photon\"\n",
    "particle_pretty = r\"$\\gamma$\""
   ]
  },
  {
   "cell_type": "code",
   "execution_count": null,
   "id": "1347dfd9-cac6-425f-95db-53b70693e8ab",
   "metadata": {},
   "outputs": [],
   "source": [
    "particle = \"pi_zero\"\n",
    "particle_pretty = r\"$\\pi^0$\""
   ]
  },
  {
   "cell_type": "code",
   "execution_count": null,
   "id": "3",
   "metadata": {},
   "outputs": [],
   "source": [
    "particle = \"pi_plus\"\n",
    "particle_pretty = r\"$\\pi^\\pm$\"\n",
    "filename_test = f\"df_{particle}_test.root:df\"\n",
    "model_file = \"CNN_kanchenjunga_energy_hcal_pi_plus_n100000_e25.keras\""
   ]
  },
  {
   "cell_type": "code",
   "execution_count": null,
   "id": "4",
   "metadata": {},
   "outputs": [],
   "source": [
    "particle = \"electron\"\n",
    "particle_pretty = r\"$e$\"\n",
    "filename_test = f\"df_{particle}_fixz_sat7_test.root:df\"\n",
    "model_file = \"CNN_lyskamm_energy_electron_n160000_e100.keras\""
   ]
  },
  {
   "cell_type": "code",
   "execution_count": null,
   "id": "5",
   "metadata": {},
   "outputs": [],
   "source": [
    "target = \"nu_energy\"\n",
    "\n",
    "target_pretty = \"flavour\"\n",
    "target_LaTeX = \"flavour\""
   ]
  },
  {
   "cell_type": "code",
   "execution_count": null,
   "id": "15",
   "metadata": {},
   "outputs": [],
   "source": [
    "plt.style.use('science')"
   ]
  },
  {
   "cell_type": "code",
   "execution_count": null,
   "id": "16",
   "metadata": {},
   "outputs": [],
   "source": [
    "plt.rcParams[\"font.size\"] = 18\n",
    "plt.rcParams[\"axes.formatter.limits\"] = -5, 4\n",
    "plt.rcParams[\"figure.figsize\"] = 6, 4\n",
    "colors = plt.rcParams[\"axes.prop_cycle\"].by_key()[\"color\"]"
   ]
  },
  {
   "cell_type": "code",
   "execution_count": null,
   "id": "17",
   "metadata": {},
   "outputs": [],
   "source": [
    "events_test = uproot.open(filename_test)"
   ]
  },
  {
   "cell_type": "code",
   "execution_count": null,
   "id": "18",
   "metadata": {},
   "outputs": [],
   "source": [
    "def event_generator():\n",
    "    events = events_test\n",
    "    for batch, report in events.iterate(step_size=1, report=True, library=\"np\"):\n",
    "        ys = np.abs(batch[target])\n",
    "        for i in range(batch[\"X\"].shape[0]):\n",
    "            yield (\n",
    "                batch[\"X\"].astype(np.float16)[i],\n",
    "                batch[\"X_mufilter\"].astype(np.float16)[i],\n",
    "                ys[i],\n",
    "            )"
   ]
  },
  {
   "cell_type": "code",
   "execution_count": null,
   "id": "19",
   "metadata": {},
   "outputs": [],
   "source": [
    "gen = event_generator()"
   ]
  },
  {
   "cell_type": "code",
   "execution_count": null,
   "id": "20",
   "metadata": {},
   "outputs": [],
   "source": [
    "sample = gen.__next__()"
   ]
  },
  {
   "cell_type": "code",
   "execution_count": null,
   "id": "21",
   "metadata": {},
   "outputs": [],
   "source": [
    "generator_spec_0 = tf.type_spec_from_value(gen.__next__()[0])\n",
    "generator_spec_1 = tf.type_spec_from_value(gen.__next__()[1])\n",
    "generator_spec_2 = tf.type_spec_from_value(gen.__next__()[2])"
   ]
  },
  {
   "cell_type": "code",
   "execution_count": null,
   "id": "22",
   "metadata": {},
   "outputs": [],
   "source": [
    "ds_test = (\n",
    "    tf.data.Dataset.from_generator(\n",
    "        event_generator,\n",
    "        output_signature=(\n",
    "            generator_spec_0,\n",
    "            generator_spec_1,\n",
    "            generator_spec_2,\n",
    "        ),\n",
    "    )\n",
    "    .map(reshape_data)\n",
    "    .apply(tf.data.experimental.assert_cardinality(events_test.num_entries))\n",
    ")"
   ]
  },
  {
   "cell_type": "code",
   "execution_count": null,
   "id": "23",
   "metadata": {},
   "outputs": [],
   "source": [
    "#y_test = np.log(events_test[target].array(library=\"np\"))\n",
    "y_test = events_test[target].array(library=\"np\")"
   ]
  },
  {
   "cell_type": "code",
   "execution_count": null,
   "id": "24",
   "metadata": {},
   "outputs": [],
   "source": [
    "batched_ds_test = ds_test.batch(20)"
   ]
  },
  {
   "cell_type": "code",
   "execution_count": null,
   "id": "26",
   "metadata": {},
   "outputs": [],
   "source": [
    "K.set_image_data_format(\"channels_last\")"
   ]
  },
  {
   "cell_type": "code",
   "execution_count": null,
   "id": "27",
   "metadata": {},
   "outputs": [],
   "source": [
    "#model = load_model(f\"CNN_jannu_energy_{particle}_n80000_e100.keras\")"
   ]
  },
  {
   "cell_type": "code",
   "execution_count": null,
   "id": "28",
   "metadata": {},
   "outputs": [],
   "source": [
    "#model = load_model(f\"CNN_jannu_energy_photon_n80000_e100.keras\")"
   ]
  },
  {
   "cell_type": "code",
   "execution_count": null,
   "id": "30",
   "metadata": {},
   "outputs": [],
   "source": [
    "keras.config.enable_unsafe_deserialization()"
   ]
  },
  {
   "cell_type": "code",
   "execution_count": null,
   "id": "31",
   "metadata": {},
   "outputs": [],
   "source": [
    "#model = load_model()"
   ]
  },
  {
   "cell_type": "code",
   "execution_count": null,
   "id": "32",
   "metadata": {},
   "outputs": [],
   "source": [
    "#model = load_model(f\"CNN_jannu_energy_combined_sat7_n160000_e100.keras\")"
   ]
  },
  {
   "cell_type": "code",
   "execution_count": null,
   "id": "33",
   "metadata": {},
   "outputs": [],
   "source": [
    "model = load_model(model_file)"
   ]
  },
  {
   "cell_type": "code",
   "execution_count": null,
   "id": "34",
   "metadata": {},
   "outputs": [],
   "source": [
    "model_name = model.name"
   ]
  },
  {
   "cell_type": "code",
   "execution_count": null,
   "id": "35",
   "metadata": {
    "tags": []
   },
   "outputs": [],
   "source": [
    "y_pred = model.predict(batched_ds_test)"
   ]
  },
  {
   "cell_type": "raw",
   "id": "38",
   "metadata": {},
   "source": [
    "df = pd.DataFrame({\"log_E_true\": y_test, \"log_E_pred\": y_pred.ravel()})"
   ]
  },
  {
   "cell_type": "raw",
   "id": "39",
   "metadata": {},
   "source": [
    "df.log_E_true.mean()"
   ]
  },
  {
   "cell_type": "raw",
   "id": "40",
   "metadata": {},
   "source": [
    "df.log_E_pred.mean()"
   ]
  },
  {
   "cell_type": "raw",
   "id": "41",
   "metadata": {},
   "source": [
    "log_scale = df.log_E_true.mean() / df.log_E_pred.mean()"
   ]
  },
  {
   "cell_type": "raw",
   "id": "42",
   "metadata": {},
   "source": [
    "df[\"E_pred\"] = np.exp(df.log_E_pred)\n",
    "df[\"E_true\"] = np.exp(df.log_E_true)"
   ]
  },
  {
   "cell_type": "code",
   "execution_count": null,
   "id": "43",
   "metadata": {},
   "outputs": [],
   "source": [
    "df = pd.DataFrame({\"E_true\": y_test, \"E_pred\": y_pred.ravel()})"
   ]
  },
  {
   "cell_type": "code",
   "execution_count": null,
   "id": "44",
   "metadata": {},
   "outputs": [],
   "source": [
    "scale = df.E_true.mean() / df.E_pred.mean()"
   ]
  },
  {
   "cell_type": "code",
   "execution_count": null,
   "id": "45",
   "metadata": {},
   "outputs": [],
   "source": [
    "shift = ((scale * df.E_pred) - df.E_true).mean()"
   ]
  },
  {
   "cell_type": "code",
   "execution_count": null,
   "id": "46",
   "metadata": {},
   "outputs": [],
   "source": [
    "df[\"E_corrected\"] = (scale * df.E_pred) - shift"
   ]
  },
  {
   "cell_type": "code",
   "execution_count": null,
   "id": "47",
   "metadata": {},
   "outputs": [],
   "source": [
    "df.E_corrected = df.E_pred"
   ]
  },
  {
   "cell_type": "code",
   "execution_count": null,
   "id": "49",
   "metadata": {},
   "outputs": [],
   "source": [
    "res = linregress(df.E_true[df.E_true>150], df.E_pred[df.E_true>150])"
   ]
  },
  {
   "cell_type": "code",
   "execution_count": null,
   "id": "50",
   "metadata": {},
   "outputs": [],
   "source": [
    "res"
   ]
  },
  {
   "cell_type": "code",
   "execution_count": null,
   "id": "51",
   "metadata": {},
   "outputs": [],
   "source": [
    "def energy_correct(E_raw):\n",
    "    return (E_raw - res.intercept) / res.slope"
   ]
  },
  {
   "cell_type": "code",
   "execution_count": null,
   "id": "52",
   "metadata": {},
   "outputs": [],
   "source": [
    "#df.E_corrected = energy_correct(df.E_pred)"
   ]
  },
  {
   "cell_type": "code",
   "execution_count": null,
   "id": "53",
   "metadata": {},
   "outputs": [],
   "source": [
    "plt.scatter(df.E_true, df.E_corrected)"
   ]
  },
  {
   "cell_type": "code",
   "execution_count": null,
   "id": "54",
   "metadata": {},
   "outputs": [],
   "source": [
    "scale, shift"
   ]
  },
  {
   "cell_type": "code",
   "execution_count": null,
   "id": "55",
   "metadata": {},
   "outputs": [],
   "source": [
    "h_dE = hist.Hist.new.Regular(200, -100, 100, name=r\"$dE$\").Double()"
   ]
  },
  {
   "cell_type": "code",
   "execution_count": null,
   "id": "56",
   "metadata": {},
   "outputs": [],
   "source": [
    "h_dE.fill(df.E_corrected - df.E_true)"
   ]
  },
  {
   "cell_type": "code",
   "execution_count": null,
   "id": "57",
   "metadata": {},
   "outputs": [],
   "source": [
    "df.E_corrected.max()"
   ]
  },
  {
   "cell_type": "code",
   "execution_count": null,
   "id": "58",
   "metadata": {},
   "outputs": [],
   "source": []
  },
  {
   "cell_type": "code",
   "execution_count": null,
   "id": "59",
   "metadata": {},
   "outputs": [],
   "source": [
    "df[\"d_corrected_energy\"] = df.E_corrected - df.E_true"
   ]
  },
  {
   "cell_type": "markdown",
   "id": "60",
   "metadata": {},
   "source": [
    "### Fit energy resolution"
   ]
  },
  {
   "cell_type": "code",
   "execution_count": null,
   "id": "61",
   "metadata": {},
   "outputs": [],
   "source": [
    "bins_E_reco = 15"
   ]
  },
  {
   "cell_type": "code",
   "execution_count": null,
   "id": "62",
   "metadata": {},
   "outputs": [],
   "source": [
    "h_dE_rel_test_vs_E_rel_pred = (\n",
    "    hist.Hist.new.Regular(100, (df.d_corrected_energy.min() // 10 * 10), (df.d_corrected_energy.max() // 10 + 1) * 10, name=r\"d_corrected_energy\")\n",
    "    .Regular(\n",
    "        bins_E_reco, 150, 500, name=r\"E_true\"\n",
    "    )  # , transform=hist.axis.transform.log)\n",
    "    .Double()\n",
    ")"
   ]
  },
  {
   "cell_type": "code",
   "execution_count": null,
   "id": "63",
   "metadata": {},
   "outputs": [],
   "source": [
    "h_dE_rel_test_vs_E_rel_pred.fill(df.d_corrected_energy, df.E_true)"
   ]
  },
  {
   "cell_type": "code",
   "execution_count": null,
   "id": "64",
   "metadata": {},
   "outputs": [],
   "source": [
    "plt.scatter(df.E_true, df.E_pred, marker='.', s=0.1)\n",
    "plt.xlim([150,500])\n",
    "plt.xlabel(r\" $E_\\mathrm{true}\\;[\\mathrm{GeV}]$\")\n",
    "plt.ylabel(r\"$E_\\mathrm{reco}\\;[\\mathrm{GeV}]$\")\n",
    "plt.savefig(\"plots/scatter_E_rel_test_vs_E_rel_pred.pdf\")\n",
    "plt.savefig(\"plots/scatter_E_rel_test_vs_E_rel_pred.png\")"
   ]
  },
  {
   "cell_type": "code",
   "execution_count": null,
   "id": "65",
   "metadata": {},
   "outputs": [],
   "source": [
    "plt.scatter(df.E_true, df.E_corrected, marker='.', s=0.1)\n",
    "plt.xlim([150,500])\n",
    "plt.xlabel(r\" $E_\\mathrm{true}\\;[\\mathrm{GeV}]$\")\n",
    "plt.ylabel(r\"$E_\\mathrm{reco, corrected}\\;[\\mathrm{GeV}]$\")\n",
    "#plt.savefig(\"plots/scatter_E_rel_test_vs_E_rel_pred.pdf\")\n",
    "#plt.savefig(\"plots/scatter_E_rel_test_vs_E_rel_pred.png\")"
   ]
  },
  {
   "cell_type": "code",
   "execution_count": null,
   "id": "66",
   "metadata": {},
   "outputs": [],
   "source": [
    "plt.scatter(df.E_pred-df.E_true, df.E_true, marker='.', s=0.1)\n",
    "plt.ylim([150,500])\n",
    "plt.xlabel(r\" $\\Delta E\\;[\\mathrm{GeV}]$\")\n",
    "plt.ylabel(r\"$E_\\mathrm{true}\\;[\\mathrm{GeV}]$\")\n",
    "plt.savefig(\"plots/scatter_dE_rel_test_vs_E_rel_pred.pdf\")\n",
    "plt.savefig(\"plots/scatter_dE_rel_test_vs_E_rel_pred.png\")"
   ]
  },
  {
   "cell_type": "code",
   "execution_count": null,
   "id": "68",
   "metadata": {},
   "outputs": [],
   "source": [
    "\"\"\"\n",
    "hits_per_strip = []\n",
    "energies = []\"\"\""
   ]
  },
  {
   "cell_type": "code",
   "execution_count": null,
   "id": "69",
   "metadata": {},
   "outputs": [],
   "source": [
    "wstrips = []\n",
    "energies = []"
   ]
  },
  {
   "cell_type": "raw",
   "id": "70",
   "metadata": {},
   "source": [
    "h_hits_per_strip = (\n",
    "    hist.Hist.new.Regular(\n",
    "        100, 150, 500, name=r\"E_true\"\n",
    "    ).Integer(1, 8, name=r\"hits per strip\")\n",
    "    .Double()\n",
    ")"
   ]
  },
  {
   "cell_type": "raw",
   "id": "71",
   "metadata": {},
   "source": [
    "h_wstrip_vs_E_true = (\n",
    "    hist.Hist.new.Regular(\n",
    "        50, 150, 500, name=r\"E_true\"\n",
    "    ).Regular(100, 0, 6000, name=r\"SumW of strips\")\n",
    "    .Double()\n",
    ")"
   ]
  },
  {
   "cell_type": "raw",
   "id": "72",
   "metadata": {},
   "source": [
    "t = tqdm(total=events_test.num_entries)\n",
    "event=0\n",
    "for batch, report in events_test.iterate(step_size=\"1MB\", library=\"np\", report=True):\n",
    "    batch_size = report.stop - report.start\n",
    "    for x in batch['X']:\n",
    "        energy = np.exp(y_test[event])\n",
    "        h_wstrip_vs_E_true.fill(energy, x.sum())\n",
    "        wstrips.append(x.sum())\n",
    "        energies.append(energy)\n",
    "        event += 1\n",
    "    t.update(batch_size)\n",
    "t.close()"
   ]
  },
  {
   "cell_type": "raw",
   "id": "73",
   "metadata": {},
   "source": [
    "plt.scatter(energies, wstrips, marker='.', s=0.1)\n",
    "plt.xlim([150,500])\n",
    "plt.xlabel(r\" $E_\\mathrm{true}\\;[\\mathrm{GeV}]$\")\n",
    "plt.ylabel(r\"Weighted sum of strips\")\n",
    "plt.savefig(\"plots/scatter_wsumstrips_E_true.pdf\")"
   ]
  },
  {
   "cell_type": "raw",
   "id": "74",
   "metadata": {},
   "source": [
    "h_wstrip_vs_E_true.plot2d()\n",
    "plt.savefig(\"plots/wsumstrips_E_true.pdf\")"
   ]
  },
  {
   "cell_type": "raw",
   "id": "75",
   "metadata": {},
   "source": [
    "lr = linregress(energies, wstrips)"
   ]
  },
  {
   "cell_type": "raw",
   "id": "76",
   "metadata": {},
   "source": [
    "def simple_estimator(wstips):\n",
    "    return (wstrips - lr.intercept)/lr.slope"
   ]
  },
  {
   "cell_type": "raw",
   "id": "77",
   "metadata": {},
   "source": [
    "df.E_corrected = simple_estimator(wstrips)"
   ]
  },
  {
   "cell_type": "raw",
   "id": "78",
   "metadata": {},
   "source": [
    "model_name = \"simplistic\""
   ]
  },
  {
   "cell_type": "raw",
   "id": "79",
   "metadata": {},
   "source": [
    "t = tqdm(total=events_test.num_entries)\n",
    "event=0\n",
    "for batch, report in events_test.iterate(step_size=\"1MB\", library=\"np\", report=True):\n",
    "    batch_size = report.stop - report.start\n",
    "    for x in batch['X']:\n",
    "        energy = np.exp(y_test[event])\n",
    "        h_hits_per_strip.fill(energy, x.ravel())\n",
    "        \"\"\"\n",
    "        for strip in x.ravel():\n",
    "            if strip:\n",
    "                hits_per_strip.append(strip)\n",
    "                energies.append(energy)\n",
    "        \"\"\"\n",
    "        event += 1\n",
    "    t.update(batch_size)"
   ]
  },
  {
   "cell_type": "raw",
   "id": "80",
   "metadata": {},
   "source": [
    "h_hits_per_strip.plot2d(norm='log')\n",
    "plt.savefig('plots/h_hits_per_strip.pdf')"
   ]
  },
  {
   "cell_type": "raw",
   "id": "81",
   "metadata": {},
   "source": [
    "h_hits_per_strip.project(1).plot()\n",
    "plt.savefig('plots/h_hits_per_strip_projection.pdf')"
   ]
  },
  {
   "cell_type": "raw",
   "id": "82",
   "metadata": {},
   "source": [
    "h_hits_per_strip.project(1).plot()\n",
    "plt.gca().set_yscale('log')\n",
    "plt.savefig('plots/h_hits_per_strip_projection_log.pdf')"
   ]
  },
  {
   "cell_type": "code",
   "execution_count": null,
   "id": "83",
   "metadata": {},
   "outputs": [],
   "source": [
    "\"\"\"\n",
    "plt.scatter(energies, hits_per_strip)\n",
    "\"\"\""
   ]
  },
  {
   "cell_type": "code",
   "execution_count": null,
   "id": "84",
   "metadata": {},
   "outputs": [],
   "source": [
    "h_dE_rel_test_vs_E_rel_pred.plot()\n",
    "plt.xlabel(r\" $\\Delta E\\;[\\mathrm{GeV}]$\")\n",
    "plt.ylabel(r\"$E_\\mathrm{true}\\;[\\mathrm{GeV}]$\")\n",
    "watermark()\n",
    "plt.savefig(\"plots/h_dE_rel_test_vs_E_rel_pred.pdf\")\n",
    "plt.savefig(\"plots/h_dE_rel_test_vs_E_rel_pred.png\")"
   ]
  },
  {
   "cell_type": "code",
   "execution_count": null,
   "id": "85",
   "metadata": {},
   "outputs": [],
   "source": [
    "def model(x, mu, sigma):\n",
    "    return scipy.stats.norm.cdf(x, loc=mu, scale=sigma)"
   ]
  },
  {
   "cell_type": "code",
   "execution_count": null,
   "id": "86",
   "metadata": {},
   "outputs": [],
   "source": [
    "gs = grid_spec.GridSpec(bins_E_reco, 1)\n",
    "fig = plt.figure(figsize=(16, 9))\n",
    "\n",
    "i = 0\n",
    "mus = []\n",
    "sigmas = []\n",
    "bins = []\n",
    "\n",
    "ax_objs = []\n",
    "for bin in range(bins_E_reco):\n",
    "    # creating new axes object\n",
    "    ax_objs.append(fig.add_subplot(gs[i : i + 1, 0:]))\n",
    "\n",
    "    # plotting the distribution\n",
    "    h = h_dE_rel_test_vs_E_rel_pred[:, bin]\n",
    "    h.plot(yerr=False, ax=ax_objs[-1], color=colors[bin % len(colors)], histtype=\"fill\")\n",
    "    entries, edges = h.to_numpy()\n",
    "    n_bins = len(entries)\n",
    "    average = np.average(edges[:-1], weights=entries)\n",
    "    variance = np.average((edges[:-1] - average) ** 2, weights=entries)\n",
    "    bnll = cost.BinnedNLL(entries, edges, model)\n",
    "    m = Minuit(bnll, average, np.sqrt(variance))\n",
    "    res = m.migrad()\n",
    "    res = m.hesse()\n",
    "    if res.valid:\n",
    "        plot_range = ax_objs[-1].get_xlim()\n",
    "        x = np.linspace(*plot_range, n_bins)\n",
    "        best_fit = scipy.stats.norm(res.params[0].value, res.params[1].value)\n",
    "        binsize = (plot_range[1] - plot_range[0]) / n_bins\n",
    "        scale = (\n",
    "            h.sum()\n",
    "            / (best_fit.cdf(plot_range[1]) - best_fit.cdf(plot_range[0]))\n",
    "            * binsize\n",
    "        )\n",
    "        #scale = 1\n",
    "        #ax_objs[-1].plot(\n",
    "        #    x, scale * best_fit.pdf(x), color=colors[(bin + 3) % len(colors)]\n",
    "        #)\n",
    "        ax_objs[-1].plot(\n",
    "            x, bnll.prediction(res.values), color=colors[(bin + 3) % len(colors)]\n",
    "        )\n",
    "        bins.append(bin)\n",
    "        mus.append(res.params[0])\n",
    "        sigmas.append(res.params[1])\n",
    "    else:\n",
    "        print(res)\n",
    "\n",
    "    # make background transparent\n",
    "    rect = ax_objs[-1].patch\n",
    "    rect.set_alpha(0)\n",
    "\n",
    "    # remove borders, axis ticks, and labels\n",
    "    ax_objs[-1].set_yticklabels([])\n",
    "\n",
    "    if i == bins_E_reco - 1:\n",
    "        ax_objs[-1].set_xlabel(r\"$\\Delta E$\", fontsize=16, fontweight=\"bold\")\n",
    "    else:\n",
    "        ax_objs[-1].set_xticklabels([])\n",
    "        ax_objs[-1].set_xlabel(\"\")\n",
    "\n",
    "    ax_objs[-1].set_ylabel(str(bin), rotation=45)\n",
    "    ax_objs[-1].set_yticks([])\n",
    "    ax_objs[-1].set_xticks([])\n",
    "\n",
    "    spines = [\"top\", \"right\", \"left\", \"bottom\"]\n",
    "    for s in spines:\n",
    "        ax_objs[-1].spines[s].set_visible(False)\n",
    "\n",
    "    i += 1\n",
    "\n",
    "gs.update(hspace=-0.7)\n",
    "# gs.update()\n",
    "\n",
    "plt.tight_layout()\n",
    "#plt.show()\n",
    "\n",
    "plt.savefig(f\"plots/ridge_{particle}_{model_name}.pdf\")\n",
    "plt.savefig(f\"plots/ridge_{particle}_{model_name}.png\")"
   ]
  },
  {
   "cell_type": "raw",
   "id": "87",
   "metadata": {},
   "source": [
    "plots_per_row = int(np.ceil(np.sqrt(bins_E_reco)))\n",
    "n_rows = bins_E_reco // plots_per_row\n",
    "fig, axes = plt.subplots(n_rows, plots_per_row, figsize=(20,16), sharex=\"col\")\n",
    "fig.suptitle(f\"Binwise fits of {particle_pretty} energy residuals\", y=0.93, fontsize=20)\n",
    "for i, bin in enumerate(bins):\n",
    "    ax = axes[i // plots_per_row, i % plots_per_row]\n",
    "    h = h_dE_rel_test_vs_E_rel_pred[:, bin]\n",
    "    h.plot(yerr=False, ax=ax, histtype=\"fill\")\n",
    "    entries, edges = h.to_numpy()\n",
    "    plot_range = ax.get_xlim()\n",
    "    x = np.linspace(*plot_range, 1000)\n",
    "    best_fit = scipy.stats.norm(mus[i].value, sigmas[i].value)\n",
    "    binsize = (plot_range[1] - plot_range[0]) / n_bins\n",
    "    scale = (\n",
    "            h.sum()\n",
    "            / (best_fit.cdf(plot_range[1]) - best_fit.cdf(plot_range[0]))\n",
    "            * binsize\n",
    "        )\n",
    "    ax.plot(\n",
    "            x, scale * best_fit.pdf(x)\n",
    "        )\n",
    "    if i // plots_per_row == n_rows - 1:\n",
    "        ax.set_xlabel(r\"$\\Delta E \\;[\\mathrm{GeV}]$\", fontsize=16, fontweight=\"bold\")\n",
    "    else:\n",
    "        ax.set_xlabel(\"\")\n",
    "    bin_edges = h_dE_rel_test_vs_E_rel_pred.axes[1].edges\n",
    "    ax.set_title(rf\"Bin $E_\\mathrm{{true}} = [{bin_edges[bin]}, {bin_edges[bin+1]}]\\;\\mathrm{{GeV}}$\")\n",
    "\n",
    "plt.savefig(f\"plots/binwise_fits_{particle}_{model_name}.pdf\")\n",
    "plt.savefig(f\"plots/binwise_fits_{particle}_{model_name}.png\")"
   ]
  },
  {
   "cell_type": "code",
   "execution_count": null,
   "id": "88",
   "metadata": {},
   "outputs": [],
   "source": [
    "bin_edges = h_dE_rel_test_vs_E_rel_pred.axes[1].edges\n",
    "bin_centres = (bin_edges[1:] + bin_edges[:-1]) / 2\n",
    "bin_half_widths = (bin_edges[1:] - bin_edges[:-1]) / 2"
   ]
  },
  {
   "cell_type": "code",
   "execution_count": null,
   "id": "89",
   "metadata": {},
   "outputs": [],
   "source": [
    "def line(x, m, b):\n",
    "    return b + x * m"
   ]
  },
  {
   "cell_type": "code",
   "execution_count": null,
   "id": "90",
   "metadata": {},
   "outputs": [],
   "source": [
    "mu_E_over_E = np.array([mu.value for mu in mus]) / bin_centres[bins]\n",
    "d_mu_E_over_E = abs((\n",
    "    [mu.value for mu in mus]\n",
    "    / bin_centres[bins]\n",
    "    * np.sqrt(\n",
    "        (\n",
    "            np.array([mu.error for mu in mus])\n",
    "            / np.array([mu.value for mu in mus])\n",
    "        )\n",
    "        ** 2\n",
    "        + (bin_half_widths[bins] / bin_centres[bins]) ** 2\n",
    "    )\n",
    "))"
   ]
  },
  {
   "cell_type": "code",
   "execution_count": null,
   "id": "91",
   "metadata": {},
   "outputs": [],
   "source": [
    "least_squares = LeastSquares(\n",
    "    bin_centres[bins], mu_E_over_E, d_mu_E_over_E, line\n",
    ")"
   ]
  },
  {
   "cell_type": "code",
   "execution_count": null,
   "id": "92",
   "metadata": {},
   "outputs": [],
   "source": [
    "m = Minuit(least_squares, b=-0.35, m=-0.01)  # starting values for m and b\n",
    "\n",
    "m.migrad()  # finds minimum of least_squares function\n",
    "res = m.hesse()  # accurately computes uncertainties"
   ]
  },
  {
   "cell_type": "code",
   "execution_count": null,
   "id": "93",
   "metadata": {},
   "outputs": [],
   "source": [
    "res"
   ]
  },
  {
   "cell_type": "code",
   "execution_count": null,
   "id": "94",
   "metadata": {},
   "outputs": [],
   "source": [
    "plt.errorbar(\n",
    "    bin_centres[bins],\n",
    "    mu_E_over_E,\n",
    "    xerr=bin_half_widths[bins],\n",
    "    yerr=d_mu_E_over_E,\n",
    "    linestyle=\"\",\n",
    "    label=r\"$\\left<\\Delta E\\right>$\",\n",
    "    #color=colors[0],\n",
    ")\n",
    "plt.plot(bin_centres[bins], line(bin_centres[bins], *res.values))\n",
    "#plt.hlines(0, *plt.xlim(), color=\"red\")\n",
    "plt.ylabel(r\"$\\frac{\\left<\\Delta E\\right>}{E_\\mathrm{true}}$\")\n",
    "plt.xlabel(r\"$E_\\mathrm{true}\\;[\\mathrm{GeV}]$\")\n",
    "watermark()\n",
    "plt.savefig(\"plots/energy_bias.pdf\")\n",
    "plt.savefig(\"plots/energy_bias.png\")"
   ]
  },
  {
   "cell_type": "code",
   "execution_count": null,
   "id": "95",
   "metadata": {},
   "outputs": [],
   "source": [
    "plt.errorbar(\n",
    "    bin_centres[bins],\n",
    "    [mu.value for mu in mus] + bin_centres[bins],\n",
    "    xerr=bin_half_widths[bins],\n",
    "    yerr=[mu.error for mu in mus],\n",
    "    linestyle=\"\",\n",
    "    label=r\"$\\left<\\Delta E\\right>$\",\n",
    "    #color=colors[0],\n",
    ")"
   ]
  },
  {
   "cell_type": "code",
   "execution_count": null,
   "id": "96",
   "metadata": {},
   "outputs": [],
   "source": [
    "least_squares = LeastSquares(\n",
    "    bin_centres[bins], [mu.value for mu in mus] + bin_centres[bins], [mu.error for mu in mus], line\n",
    ")"
   ]
  },
  {
   "cell_type": "code",
   "execution_count": null,
   "id": "97",
   "metadata": {},
   "outputs": [],
   "source": [
    "m = Minuit(least_squares, b=0, m=1)  # starting values for m and b\n",
    "\n",
    "m.migrad()  # finds minimum of least_squares function\n",
    "res = m.hesse()  # accurately computes uncertainties"
   ]
  },
  {
   "cell_type": "code",
   "execution_count": null,
   "id": "98",
   "metadata": {},
   "outputs": [],
   "source": [
    "res.params"
   ]
  },
  {
   "cell_type": "code",
   "execution_count": null,
   "id": "100",
   "metadata": {},
   "outputs": [],
   "source": [
    "A, b, c, E = sympy.symbols(\"A b c E\")"
   ]
  },
  {
   "cell_type": "code",
   "execution_count": null,
   "id": "101",
   "metadata": {},
   "outputs": [],
   "source": [
    "f = A + b / sympy.sqrt(E) + c / E"
   ]
  },
  {
   "cell_type": "code",
   "execution_count": null,
   "id": "102",
   "metadata": {},
   "outputs": [],
   "source": [
    "f_lambda = sympy.lambdify((A, b, c, E), f)"
   ]
  },
  {
   "cell_type": "code",
   "execution_count": null,
   "id": "103",
   "metadata": {},
   "outputs": [],
   "source": [
    "def E_model(E, A, b, c):\n",
    "    return f_lambda(A, b, c, E)"
   ]
  },
  {
   "cell_type": "raw",
   "id": "104",
   "metadata": {},
   "source": [
    "sigma_E_over_E = np.array([sigma.value for sigma in sigmas]) / bin_centres[bins]\n",
    "d_sigma_E_over_E = (\n",
    "    [sigma.value for sigma in sigmas]\n",
    "    / bin_centres[bins]\n",
    "    * np.sqrt(\n",
    "        (\n",
    "            np.array([sigma.error for sigma in sigmas])\n",
    "            / np.array([sigma.value for sigma in sigmas])\n",
    "        )\n",
    "        ** 2\n",
    "        + (bin_half_widths[bins] / bin_centres[bins]) ** 2\n",
    "    )\n",
    ")"
   ]
  },
  {
   "cell_type": "code",
   "execution_count": null,
   "id": "105",
   "metadata": {},
   "outputs": [],
   "source": [
    "denom = [mu.value for mu in mus] + bin_centres[bins]\n",
    "denom = bin_centres[bins]\n",
    "sigma_E_over_E = np.array([sigma.value for sigma in sigmas]) / denom\n",
    "#error_denom = np.sqrt(bin_half_widths[bins] ** 2 + np.array([mu.error for mu in mus]) ** 2)\n",
    "#error_denom = np.array([mu.error for mu in mus])\n",
    "error_denom = bin_half_widths[bins]\n",
    "d_sigma_E_over_E = (\n",
    "    sigma_E_over_E\n",
    "    * np.sqrt(\n",
    "        (\n",
    "            np.array([sigma.error for sigma in sigmas])\n",
    "            / np.array([sigma.value for sigma in sigmas])\n",
    "        )\n",
    "        ** 2\n",
    "        + ( error_denom / denom) ** 2\n",
    "    )\n",
    ")"
   ]
  },
  {
   "cell_type": "code",
   "execution_count": null,
   "id": "106",
   "metadata": {},
   "outputs": [],
   "source": [
    "least_squares = LeastSquares(\n",
    "    bin_centres[bins], sigma_E_over_E, d_sigma_E_over_E, E_model\n",
    ")"
   ]
  },
  {
   "cell_type": "code",
   "execution_count": null,
   "id": "107",
   "metadata": {},
   "outputs": [],
   "source": [
    "m = Minuit(least_squares, A=0.1, b=1, c=0)  # starting values for α and β\n",
    "#m.limits[\"A\"] = (0, None)\n",
    "#m.limits[\"b\"] = (0, None)\n",
    "#m.limits[\"c\"] = (0, None)\n",
    "#m.fixed[\"c\"] = False\n",
    "\n",
    "\n",
    "m.migrad()  # finds minimum of least_squares function\n",
    "res = m.hesse()  # accurately computes uncertainties"
   ]
  },
  {
   "cell_type": "code",
   "execution_count": null,
   "id": "108",
   "metadata": {},
   "outputs": [],
   "source": [
    "res"
   ]
  },
  {
   "cell_type": "code",
   "execution_count": null,
   "id": "109",
   "metadata": {},
   "outputs": [],
   "source": [
    "f_pretty = sympy.latex(\n",
    "    f.subs(\n",
    "        [\n",
    "            (A, sympy.Float(res.params[0].value, 1)),\n",
    "            (b, sympy.Float(res.params[1].value, 2)),\n",
    "            (c, sympy.Float(res.params[2].value, 2)),\n",
    "\n",
    "        ]\n",
    "    )\n",
    ")"
   ]
  },
  {
   "cell_type": "code",
   "execution_count": null,
   "id": "110",
   "metadata": {},
   "outputs": [],
   "source": [
    "plt.errorbar(\n",
    "    bin_centres[bins],\n",
    "    [sigma.value for sigma in sigmas] / bin_centres[bins],\n",
    "    xerr=bin_half_widths[bins],\n",
    "    yerr=d_sigma_E_over_E,\n",
    "    linestyle=\"\",\n",
    "    label=r\"$\\sigma\\left(\\Delta E\\right)$\",\n",
    "    color=colors[1],\n",
    "    fmt=\"o\",\n",
    "    capsize=3,\n",
    ")\n",
    "plt.plot(\n",
    "    bin_centres[bins],\n",
    "    E_model(bin_centres[bins], res.params[0].value, res.params[1].value, res.params[2].value),\n",
    ")\n",
    "plt.ylabel(r\"$\\frac{\\sigma\\left(E\\right)}{E_\\mathrm{reco}}$\")\n",
    "plt.xlabel(r\"$E_\\mathrm{true}\\;[\\mathrm{GeV}]$\")\n",
    "ax = plt.gca()\n",
    "watermark()\n",
    "plt.text(\n",
    "    0.6,\n",
    "    0.8,\n",
    "    # rf\"$\\sqrt{{{res.params[0].value:.3f}^2 + \\left(\\frac{{{res.params[1].value:.1f}}}{{\\sqrt{{E}}}}\\right)^2}}$\",\n",
    "    rf\"{particle_pretty} energy res.\",\n",
    "    fontsize=14,\n",
    "    transform=ax.transAxes,\n",
    ")\n",
    "plt.text(\n",
    "    0.6,\n",
    "    0.7,\n",
    "    # rf\"$\\sqrt{{{res.params[0].value:.3f}^2 + \\left(\\frac{{{res.params[1].value:.1f}}}{{\\sqrt{{E}}}}\\right)^2}}$\",\n",
    "    rf\"${f_pretty}$\",\n",
    "    fontsize=14,\n",
    "    transform=ax.transAxes,\n",
    ")\n",
    "plt.text(\n",
    "    0.6,\n",
    "    0.6,\n",
    "    rf\"$A = {res.params[0].value:.2f} \\pm {res.params[0].error:.2f}$\",\n",
    "    fontsize=14,\n",
    "    transform=ax.transAxes,\n",
    ")\n",
    "plt.text(\n",
    "    0.6,\n",
    "    0.5,\n",
    "    rf\"$b = {res.params[1].value:.1f} \\pm {res.params[1].error:.1f}$\",\n",
    "    fontsize=14,\n",
    "    transform=ax.transAxes,\n",
    ")\n",
    "if not m.fixed[\"c\"]:\n",
    "    plt.text(\n",
    "        0.6,\n",
    "        0.4,\n",
    "        rf\"$c = {res.params[2].value:.1f} \\pm {res.params[2].error:.1f}$\",\n",
    "        fontsize=14,\n",
    "        transform=ax.transAxes,\n",
    "    )\n",
    "plt.savefig(f\"plots/energy_resolution_{particle}_{model_name}_free_abc.pdf\")\n",
    "plt.savefig(f\"plots/energy_resolution_{particle}_{model_name}_free_abc.png\")"
   ]
  },
  {
   "cell_type": "code",
   "execution_count": null,
   "id": "111",
   "metadata": {},
   "outputs": [],
   "source": [
    "m = Minuit(least_squares, A=0.1, b=1, c=0)  # starting values for α and β\n",
    "#m.limits[\"A\"] = (0, None)\n",
    "#m.limits[\"b\"] = (0, None)\n",
    "#m.limits[\"c\"] = (0, None)\n",
    "m.fixed[\"c\"] = True\n",
    "\n",
    "\n",
    "m.migrad()  # finds minimum of least_squares function\n",
    "res = m.hesse()  # accurately computes uncertainties"
   ]
  },
  {
   "cell_type": "code",
   "execution_count": null,
   "id": "112",
   "metadata": {},
   "outputs": [],
   "source": [
    "res"
   ]
  },
  {
   "cell_type": "code",
   "execution_count": null,
   "id": "113",
   "metadata": {},
   "outputs": [],
   "source": [
    "f_pretty = sympy.latex(\n",
    "    f.subs(\n",
    "        [\n",
    "            (A, sympy.Float(res.params[0].value, 1)),\n",
    "            (b, sympy.Float(res.params[1].value, 2)),\n",
    "            (c, sympy.Float(res.params[2].value, 2)),\n",
    "\n",
    "        ]\n",
    "    )\n",
    ")"
   ]
  },
  {
   "cell_type": "code",
   "execution_count": null,
   "id": "114",
   "metadata": {},
   "outputs": [],
   "source": [
    "plt.errorbar(\n",
    "    bin_centres[bins],\n",
    "    sigma_E_over_E,\n",
    "    xerr=bin_half_widths[bins],\n",
    "    yerr=d_sigma_E_over_E,\n",
    "    linestyle=\"\",\n",
    "    label=r\"$\\sigma\\left(\\Delta E\\right)$\",\n",
    "    color=colors[1],\n",
    "    fmt=\"o\",\n",
    "    capsize=3,\n",
    ")\n",
    "plt.plot(\n",
    "    bin_centres[bins],\n",
    "    E_model(bin_centres[bins], res.params[0].value, res.params[1].value, res.params[2].value),\n",
    ")\n",
    "plt.ylabel(r\"$\\frac{\\sigma\\left(E\\right)}{E_\\mathrm{reco}}$\")\n",
    "plt.xlabel(r\"$E_\\mathrm{true}\\;[\\mathrm{GeV}]$\")\n",
    "ax = plt.gca()\n",
    "watermark()\n",
    "plt.text(\n",
    "    0.6,\n",
    "    0.8,\n",
    "    # rf\"$\\sqrt{{{res.params[0].value:.3f}^2 + \\left(\\frac{{{res.params[1].value:.1f}}}{{\\sqrt{{E}}}}\\right)^2}}$\",\n",
    "    rf\"{particle_pretty} energy res.\",\n",
    "    fontsize=14,\n",
    "    transform=ax.transAxes,\n",
    ")\n",
    "plt.text(\n",
    "    0.6,\n",
    "    0.7,\n",
    "    # rf\"$\\sqrt{{{res.params[0].value:.3f}^2 + \\left(\\frac{{{res.params[1].value:.1f}}}{{\\sqrt{{E}}}}\\right)^2}}$\",\n",
    "    rf\"${f_pretty}$\",\n",
    "    fontsize=14,\n",
    "    transform=ax.transAxes,\n",
    ")\n",
    "plt.text(\n",
    "    0.6,\n",
    "    0.6,\n",
    "    rf\"$A = {res.params[0].value:.2f} \\pm {res.params[0].error:.2f}$\",\n",
    "    fontsize=14,\n",
    "    transform=ax.transAxes,\n",
    ")\n",
    "plt.text(\n",
    "    0.6,\n",
    "    0.5,\n",
    "    rf\"$b = {res.params[1].value:.1f} \\pm {res.params[1].error:.1f}$\",\n",
    "    fontsize=14,\n",
    "    transform=ax.transAxes,\n",
    ")\n",
    "if not m.fixed[\"c\"]:\n",
    "    plt.text(\n",
    "        0.6,\n",
    "        0.4,\n",
    "        rf\"$c = {res.params[2].value:.1f} \\pm {res.params[2].error:.1f}$\",\n",
    "        fontsize=14,\n",
    "        transform=ax.transAxes,\n",
    "    )\n",
    "plt.savefig(f\"plots/energy_resolution_{particle}_{model_name}_free_ab.pdf\")\n",
    "plt.savefig(f\"plots/energy_resolution_{particle}_{model_name}_free_ab.png\")"
   ]
  },
  {
   "cell_type": "code",
   "execution_count": null,
   "id": "115",
   "metadata": {},
   "outputs": [],
   "source": [
    "m = Minuit(least_squares, A=0.1, b=1, c=0)  # starting values for α and β\n",
    "m.limits[\"A\"] = (0, None)\n",
    "m.limits[\"b\"] = (0, None)\n",
    "m.limits[\"c\"] = (0, None)\n",
    "m.fixed[\"c\"] = False\n",
    "\n",
    "\n",
    "m.migrad()  # finds minimum of least_squares function\n",
    "res = m.hesse()  # accurately computes uncertainties"
   ]
  },
  {
   "cell_type": "code",
   "execution_count": null,
   "id": "116",
   "metadata": {},
   "outputs": [],
   "source": [
    "f_pretty = sympy.latex(\n",
    "    f.subs(\n",
    "        [\n",
    "            (A, sympy.Float(res.params[0].value, 1)),\n",
    "            (b, sympy.Float(res.params[1].value, 2)),\n",
    "            (c, sympy.Float(res.params[2].value, 2)),\n",
    "\n",
    "        ]\n",
    "    )\n",
    ")"
   ]
  },
  {
   "cell_type": "code",
   "execution_count": null,
   "id": "117",
   "metadata": {},
   "outputs": [],
   "source": [
    "plt.errorbar(\n",
    "    bin_centres[bins],\n",
    "    sigma_E_over_E,\n",
    "    xerr=bin_half_widths[bins],\n",
    "    yerr=d_sigma_E_over_E,\n",
    "    linestyle=\"\",\n",
    "    label=r\"$\\sigma\\left(\\Delta E\\right)$\",\n",
    "    color=colors[1],\n",
    "    fmt=\"o\",\n",
    "    capsize=3,\n",
    ")\n",
    "plt.plot(\n",
    "    bin_centres[bins],\n",
    "    E_model(bin_centres[bins], res.params[0].value, res.params[1].value, res.params[2].value),\n",
    ")\n",
    "plt.ylabel(r\"$\\frac{\\sigma\\left(E\\right)}{E_\\mathrm{reco}}$\")\n",
    "plt.xlabel(r\"$E_\\mathrm{true}\\;[\\mathrm{GeV}]$\")\n",
    "ax = plt.gca()\n",
    "watermark()\n",
    "plt.text(\n",
    "    0.6,\n",
    "    0.8,\n",
    "    # rf\"$\\sqrt{{{res.params[0].value:.3f}^2 + \\left(\\frac{{{res.params[1].value:.1f}}}{{\\sqrt{{E}}}}\\right)^2}}$\",\n",
    "    rf\"{particle_pretty} energy res.\",\n",
    "    fontsize=14,\n",
    "    transform=ax.transAxes,\n",
    ")\n",
    "plt.text(\n",
    "    0.6,\n",
    "    0.7,\n",
    "    # rf\"$\\sqrt{{{res.params[0].value:.3f}^2 + \\left(\\frac{{{res.params[1].value:.1f}}}{{\\sqrt{{E}}}}\\right)^2}}$\",\n",
    "    rf\"${f_pretty}$\",\n",
    "    fontsize=14,\n",
    "    transform=ax.transAxes,\n",
    ")\n",
    "plt.text(\n",
    "    0.6,\n",
    "    0.6,\n",
    "    rf\"$A = {res.params[0].value:.2f} \\pm {res.params[0].error:.2f}$\",\n",
    "    fontsize=14,\n",
    "    transform=ax.transAxes,\n",
    ")\n",
    "plt.text(\n",
    "    0.6,\n",
    "    0.5,\n",
    "    rf\"$b = {res.params[1].value:.1f} \\pm {res.params[1].error:.1f}$\",\n",
    "    fontsize=14,\n",
    "    transform=ax.transAxes,\n",
    ")\n",
    "if not m.fixed[\"c\"]:\n",
    "    plt.text(\n",
    "        0.6,\n",
    "        0.4,\n",
    "        rf\"$c = {res.params[2].value:.1f} \\pm {res.params[2].error:.1f}$\",\n",
    "        fontsize=14,\n",
    "        transform=ax.transAxes,\n",
    "    )\n",
    "plt.savefig(f\"plots/energy_resolution_{particle}_{model_name}_pos_abc.pdf\")\n",
    "plt.savefig(f\"plots/energy_resolution_{particle}_{model_name}_pos_abc.png\")"
   ]
  },
  {
   "cell_type": "code",
   "execution_count": null,
   "id": "118",
   "metadata": {},
   "outputs": [],
   "source": [
    "m = Minuit(least_squares, A=0.1, b=1, c=0)  # starting values for α and β\n",
    "m.limits[\"A\"] = (0, None)\n",
    "m.limits[\"b\"] = (0, None)\n",
    "m.limits[\"c\"] = (0, None)\n",
    "m.fixed[\"c\"] = True\n",
    "\n",
    "\n",
    "m.migrad()  # finds minimum of least_squares function\n",
    "res = m.hesse()  # accurately computes uncertainties"
   ]
  },
  {
   "cell_type": "code",
   "execution_count": null,
   "id": "119",
   "metadata": {},
   "outputs": [],
   "source": [
    "f_pretty = sympy.latex(\n",
    "    f.subs(\n",
    "        [\n",
    "            (A, sympy.Float(res.params[0].value, 1)),\n",
    "            (b, sympy.Float(res.params[1].value, 2)),\n",
    "            (c, sympy.Float(res.params[2].value, 2)),\n",
    "\n",
    "        ]\n",
    "    )\n",
    ")"
   ]
  },
  {
   "cell_type": "code",
   "execution_count": null,
   "id": "120",
   "metadata": {},
   "outputs": [],
   "source": [
    "plt.errorbar(\n",
    "    bin_centres[bins],\n",
    "    sigma_E_over_E,\n",
    "    xerr=bin_half_widths[bins],\n",
    "    yerr=d_sigma_E_over_E,\n",
    "    linestyle=\"\",\n",
    "    label=r\"$\\sigma\\left(\\Delta E\\right)$\",\n",
    "    color=colors[1],\n",
    "    fmt=\"o\",\n",
    "    capsize=3,\n",
    ")\n",
    "plt.plot(\n",
    "    bin_centres[bins],\n",
    "    E_model(bin_centres[bins], res.params[0].value, res.params[1].value, res.params[2].value),\n",
    ")\n",
    "plt.ylabel(r\"$\\frac{\\sigma\\left(E\\right)}{E_\\mathrm{reco}}$\")\n",
    "plt.xlabel(r\"$E_\\mathrm{true}\\;[\\mathrm{GeV}]$\")\n",
    "ax = plt.gca()\n",
    "watermark()\n",
    "plt.text(\n",
    "    0.6,\n",
    "    0.8,\n",
    "    # rf\"$\\sqrt{{{res.params[0].value:.3f}^2 + \\left(\\frac{{{res.params[1].value:.1f}}}{{\\sqrt{{E}}}}\\right)^2}}$\",\n",
    "    rf\"{particle_pretty} energy res.\",\n",
    "    fontsize=14,\n",
    "    transform=ax.transAxes,\n",
    ")\n",
    "plt.text(\n",
    "    0.6,\n",
    "    0.7,\n",
    "    # rf\"$\\sqrt{{{res.params[0].value:.3f}^2 + \\left(\\frac{{{res.params[1].value:.1f}}}{{\\sqrt{{E}}}}\\right)^2}}$\",\n",
    "    rf\"${f_pretty}$\",\n",
    "    fontsize=14,\n",
    "    transform=ax.transAxes,\n",
    ")\n",
    "plt.text(\n",
    "    0.6,\n",
    "    0.6,\n",
    "    rf\"$A = {res.params[0].value:.2f} \\pm {res.params[0].error:.2f}$\",\n",
    "    fontsize=14,\n",
    "    transform=ax.transAxes,\n",
    ")\n",
    "plt.text(\n",
    "    0.6,\n",
    "    0.5,\n",
    "    rf\"$b = {res.params[1].value:.1f} \\pm {res.params[1].error:.1f}$\",\n",
    "    fontsize=14,\n",
    "    transform=ax.transAxes,\n",
    ")\n",
    "if not m.fixed[\"c\"]:\n",
    "    plt.text(\n",
    "        0.6,\n",
    "        0.4,\n",
    "        rf\"$c = {res.params[2].value:.1f} \\pm {res.params[2].error:.1f}$\",\n",
    "        fontsize=14,\n",
    "        transform=ax.transAxes,\n",
    "    )\n",
    "plt.savefig(f\"plots/energy_resolution_{particle}_{model_name}_pos_ab.pdf\")\n",
    "plt.savefig(f\"plots/energy_resolution_{particle}_{model_name}_pos_ab.png\")"
   ]
  },
  {
   "cell_type": "code",
   "execution_count": null,
   "id": "121",
   "metadata": {},
   "outputs": [],
   "source": [
    "plt.errorbar(\n",
    "    bin_centres[bins],\n",
    "    sigma_E_over_E,\n",
    "    xerr=bin_half_widths[bins],\n",
    "    yerr=d_sigma_E_over_E,\n",
    "    linestyle=\"\",\n",
    "    label=r\"$\\sigma\\left(\\Delta E\\right)$\",\n",
    "    color=colors[1],\n",
    "    fmt=\"o\",\n",
    "    capsize=3,\n",
    ")\n",
    "plt.ylabel(r\"$\\frac{\\sigma\\left(E\\right)}{E_\\mathrm{reco}}$\")\n",
    "plt.xlabel(r\"$E_\\mathrm{true}\\;[\\mathrm{GeV}]$\")\n",
    "ax = plt.gca()\n",
    "watermark()\n",
    "plt.text(\n",
    "    0.6,\n",
    "    0.8,\n",
    "    # rf\"$\\sqrt{{{res.params[0].value:.3f}^2 + \\left(\\frac{{{res.params[1].value:.1f}}}{{\\sqrt{{E}}}}\\right)^2}}$\",\n",
    "    rf\"{particle_pretty} energy res.\",\n",
    "    fontsize=14,\n",
    "    transform=ax.transAxes,\n",
    ")\n",
    "plt.savefig(f\"plots/energy_resolution_{particle}_{model_name}_no_fit.pdf\")\n",
    "plt.savefig(f\"plots/energy_resolution_{particle}_{model_name}_no_fit.png\")"
   ]
  },
  {
   "cell_type": "code",
   "execution_count": null,
   "id": "122",
   "metadata": {},
   "outputs": [],
   "source": []
  },
  {
   "cell_type": "code",
   "execution_count": null,
   "id": "123",
   "metadata": {},
   "outputs": [],
   "source": []
  }
 ],
 "metadata": {
  "kernelspec": {
   "display_name": "Python 3",
   "language": "python",
   "name": "python3"
  },
  "language_info": {
   "codemirror_mode": {
    "name": "ipython",
    "version": 3
   },
   "file_extension": ".py",
   "mimetype": "text/x-python",
   "name": "python",
   "nbconvert_exporter": "python",
   "pygments_lexer": "ipython3",
   "version": "3.11.9"
  }
 },
 "nbformat": 4,
 "nbformat_minor": 5
}
