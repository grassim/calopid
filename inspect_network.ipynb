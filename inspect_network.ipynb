{
 "cells": [
  {
   "cell_type": "code",
   "execution_count": null,
   "id": "0",
   "metadata": {},
   "outputs": [],
   "source": []
  },
  {
   "cell_type": "code",
   "execution_count": null,
   "id": "1",
   "metadata": {},
   "outputs": [],
   "source": [
    "import matplotlib.pyplot as plt\n",
    "import pandas as pd\n",
    "import scienceplots  # noqa: F401\n",
    "from tensorflow.keras.models import load_model\n",
    "\n",
    "from plotting import watermark"
   ]
  },
  {
   "cell_type": "code",
   "execution_count": null,
   "id": "2",
   "metadata": {},
   "outputs": [],
   "source": [
    "model_file = \"CNN_nadelhorn_energy_electron_n80000_e25.keras\"\n",
    "history_file = \"history_\" + model_file.split(\".\")[0] + \".csv\""
   ]
  },
  {
   "cell_type": "code",
   "execution_count": null,
   "id": "3",
   "metadata": {},
   "outputs": [],
   "source": [
    "plt.style.use([\"science\", \"notebook\"])"
   ]
  },
  {
   "cell_type": "code",
   "execution_count": null,
   "id": "4",
   "metadata": {},
   "outputs": [],
   "source": [
    "plt.rcParams[\"font.size\"] = 14\n",
    "plt.rcParams[\"axes.formatter.limits\"] = -5, 4\n",
    "plt.rcParams[\"figure.figsize\"] = 6, 4\n",
    "colors = plt.rcParams[\"axes.prop_cycle\"].by_key()[\"color\"]"
   ]
  },
  {
   "cell_type": "code",
   "execution_count": null,
   "id": "5",
   "metadata": {},
   "outputs": [],
   "source": [
    "model = load_model(model_file)"
   ]
  },
  {
   "cell_type": "code",
   "execution_count": null,
   "id": "6",
   "metadata": {},
   "outputs": [],
   "source": [
    "model_name = model.name"
   ]
  },
  {
   "cell_type": "code",
   "execution_count": null,
   "id": "7",
   "metadata": {},
   "outputs": [],
   "source": [
    "model.summary()"
   ]
  },
  {
   "cell_type": "code",
   "execution_count": null,
   "id": "8",
   "metadata": {},
   "outputs": [],
   "source": [
    "history_df = pd.read_csv(history_file)"
   ]
  },
  {
   "cell_type": "code",
   "execution_count": null,
   "id": "9",
   "metadata": {},
   "outputs": [],
   "source": [
    "n_events = 80000"
   ]
  },
  {
   "cell_type": "code",
   "execution_count": null,
   "id": "10",
   "metadata": {},
   "outputs": [],
   "source": [
    "fig, ax1 = plt.subplots()\n",
    "ax2 = ax1.twinx()\n",
    "# plt.title(\"CNN $\")\n",
    "ax1.plot(history_df[\"loss\"].values, color=colors[0])\n",
    "ax1.set_xlabel(\"Epochs\")\n",
    "ax1.set_ylabel(\"Loss Function\", color=colors[0])\n",
    "try:\n",
    "    ax2.plot(history_df[\"mae\"].values, color=colors[1])\n",
    "except KeyError:\n",
    "    ax2.plot(history_df[\"dense_2_mae\"].values, color=colors[1])\n",
    "    ax2.plot(history_df[\"dense_3_mae\"].values, color=colors[1])\n",
    "ax2.set_ylabel(\"Error\", color=colors[1])\n",
    "plt.text(\n",
    "    0.3,\n",
    "    0.7,\n",
    "    f\"Training dataset: {n_events} events\\n\"\n",
    "    # f\"Test dataset: {events_test.num_entries} events\\n\"\n",
    "    f\"Training duration: {len(history_df)} epochs\\n{model_name}\",\n",
    "    transform=ax1.transAxes,\n",
    ")\n",
    "ax1.set_yscale(\"log\")\n",
    "ax2.set_yscale(\"log\")\n",
    "watermark()\n",
    "plt.savefig(f\"plots/convergence_{model_name}_n{n_events}_e{len(history_df)}.pdf\")\n",
    "plt.savefig(f\"plots/convergence_{model_name}_n{n_events}_e{len(history_df)}.png\")"
   ]
  },
  {
   "cell_type": "code",
   "execution_count": null,
   "id": "11",
   "metadata": {},
   "outputs": [],
   "source": []
  }
 ],
 "metadata": {
  "kernelspec": {
   "display_name": "Python 3",
   "language": "python",
   "name": "python3"
  },
  "language_info": {
   "codemirror_mode": {
    "name": "ipython",
    "version": 3
   },
   "file_extension": ".py",
   "mimetype": "text/x-python",
   "name": "python",
   "nbconvert_exporter": "python",
   "pygments_lexer": "ipython3",
   "version": "3.11.9"
  }
 },
 "nbformat": 4,
 "nbformat_minor": 5
}
