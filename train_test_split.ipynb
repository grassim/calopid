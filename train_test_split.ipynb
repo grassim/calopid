{
 "cells": [
  {
   "cell_type": "code",
   "execution_count": null,
   "id": "0",
   "metadata": {},
   "outputs": [],
   "source": [
    "import numpy as np\n",
    "import uproot\n",
    "from tqdm import tqdm"
   ]
  },
  {
   "cell_type": "code",
   "execution_count": null,
   "id": "1",
   "metadata": {},
   "outputs": [],
   "source": [
    "rng = np.random.default_rng()"
   ]
  },
  {
   "cell_type": "code",
   "execution_count": null,
   "id": "2",
   "metadata": {},
   "outputs": [],
   "source": [
    "file_name = \"df_pi_plus.root\""
   ]
  },
  {
   "cell_type": "code",
   "execution_count": null,
   "id": "3",
   "metadata": {},
   "outputs": [],
   "source": [
    "basename = file_name.split(\".\")[0]"
   ]
  },
  {
   "cell_type": "code",
   "execution_count": null,
   "id": "4",
   "metadata": {},
   "outputs": [],
   "source": [
    "train_file_name = f\"{basename}_train.root\"\n",
    "test_file_name = f\"{basename}_test.root\"\n",
    "treename = \"df\""
   ]
  },
  {
   "cell_type": "code",
   "execution_count": null,
   "id": "5",
   "metadata": {},
   "outputs": [],
   "source": [
    "tree = uproot.open(f\"{file_name}:{treename}\")"
   ]
  },
  {
   "cell_type": "code",
   "execution_count": null,
   "id": "6",
   "metadata": {},
   "outputs": [],
   "source": [
    "train_frac = 0.8"
   ]
  },
  {
   "cell_type": "code",
   "execution_count": null,
   "id": "7",
   "metadata": {},
   "outputs": [],
   "source": [
    "train_file = uproot.recreate(train_file_name)\n",
    "test_file = uproot.recreate(test_file_name)"
   ]
  },
  {
   "cell_type": "code",
   "execution_count": null,
   "id": "8",
   "metadata": {},
   "outputs": [],
   "source": [
    "target_dims = (3279, 116)\n",
    "mufilter_dims = (3279, 68)"
   ]
  },
  {
   "cell_type": "code",
   "execution_count": null,
   "id": "9",
   "metadata": {},
   "outputs": [],
   "source": [
    "train_file.mktree(\n",
    "    treename,\n",
    "    {\n",
    "        \"X\": (\">f4\", target_dims),\n",
    "        \"X_mufilter\": (\">f4\", mufilter_dims),\n",
    "        \"start_x\": \">f8\",\n",
    "        \"start_y\": \">f8\",\n",
    "        \"start_z\": \">f8\",\n",
    "        \"nu_energy\": \">f8\",\n",
    "        \"hadron_energy\": \">f8\",\n",
    "        \"lepton_energy\": \">f8\",\n",
    "        \"energy_dep_target\": \">f8\",\n",
    "        \"energy_dep_mufilter\": \">f8\",\n",
    "        \"nu_flavour\": \">i8\",\n",
    "        \"is_cc\": \"bool\",\n",
    "    },\n",
    "    title=\"Dataframe for CNN studies\",\n",
    ")"
   ]
  },
  {
   "cell_type": "code",
   "execution_count": null,
   "id": "10",
   "metadata": {},
   "outputs": [],
   "source": [
    "test_file.mktree(\n",
    "    treename,\n",
    "    {\n",
    "        \"X\": (\">f4\", target_dims),\n",
    "        \"X_mufilter\": (\">f4\", mufilter_dims),\n",
    "        \"start_x\": \">f8\",\n",
    "        \"start_y\": \">f8\",\n",
    "        \"start_z\": \">f8\",\n",
    "        \"nu_energy\": \">f8\",\n",
    "        \"hadron_energy\": \">f8\",\n",
    "        \"lepton_energy\": \">f8\",\n",
    "        \"energy_dep_target\": \">f8\",\n",
    "        \"energy_dep_mufilter\": \">f8\",\n",
    "        \"nu_flavour\": \">i8\",\n",
    "        \"is_cc\": \"bool\",\n",
    "    },\n",
    "    title=\"Dataframe for CNN studies\",\n",
    ")"
   ]
  },
  {
   "cell_type": "code",
   "execution_count": null,
   "id": "11",
   "metadata": {},
   "outputs": [],
   "source": [
    "t = tqdm(total=tree.num_entries)\n",
    "partition = int(tree.num_entries * train_frac)\n",
    "for batch, report in tree.iterate(step_size=\"1MB\", library=\"np\", report=True):\n",
    "    batch_size = report.stop - report.start\n",
    "    if report.stop <= partition:\n",
    "        train_file[treename].extend({key: batch[key] for key in batch.keys()})\n",
    "    elif report.start < partition:\n",
    "        batch_partition = partition - report.start\n",
    "        train_file[treename].extend(\n",
    "            {key: batch[key][:batch_partition] for key in batch.keys()}\n",
    "        )\n",
    "        test_file[treename].extend(\n",
    "            {key: batch[key][batch_partition:] for key in batch.keys()}\n",
    "        )\n",
    "    else:\n",
    "        test_file[treename].extend({key: batch[key] for key in batch.keys()})\n",
    "    t.update(batch_size)"
   ]
  },
  {
   "cell_type": "code",
   "execution_count": null,
   "id": "12",
   "metadata": {},
   "outputs": [],
   "source": [
    "print(train_file[treename].num_entries)\n",
    "print(test_file[treename].num_entries)"
   ]
  },
  {
   "cell_type": "code",
   "execution_count": null,
   "id": "13",
   "metadata": {},
   "outputs": [],
   "source": [
    "train_file.close()\n",
    "test_file.close()"
   ]
  },
  {
   "cell_type": "code",
   "execution_count": null,
   "id": "14",
   "metadata": {},
   "outputs": [],
   "source": []
  }
 ],
 "metadata": {
  "kernelspec": {
   "display_name": "Python 3",
   "language": "python",
   "name": "python3"
  },
  "language_info": {
   "codemirror_mode": {
    "name": "ipython",
    "version": 3
   },
   "file_extension": ".py",
   "mimetype": "text/x-python",
   "name": "python",
   "nbconvert_exporter": "python",
   "pygments_lexer": "ipython3",
   "version": "3.11.9"
  }
 },
 "nbformat": 4,
 "nbformat_minor": 5
}
