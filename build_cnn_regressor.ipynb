{
 "cells": [
  {
   "cell_type": "markdown",
   "id": "0",
   "metadata": {},
   "source": [
    "# CNN for AdvSND energy reconstruction"
   ]
  },
  {
   "cell_type": "code",
   "execution_count": 1,
   "id": "1",
   "metadata": {
    "tags": []
   },
   "outputs": [
    {
     "name": "stderr",
     "output_type": "stream",
     "text": [
      "2025-02-11 20:47:27.561414: I tensorflow/core/platform/cpu_feature_guard.cc:210] This TensorFlow binary is optimized to use available CPU instructions in performance-critical operations.\n",
      "To enable the following instructions: AVX2 FMA, in other operations, rebuild TensorFlow with the appropriate compiler flags.\n",
      "2025-02-11 20:47:30.667599: W tensorflow/compiler/tf2tensorrt/utils/py_utils.cc:38] TF-TRT Warning: Could not find TensorRT\n"
     ]
    }
   ],
   "source": [
    "from tensorflow.keras.layers import (\n",
    "    BatchNormalization,\n",
    "    Concatenate,\n",
    "    Conv2D,\n",
    "    Dense,\n",
    "    Dropout,\n",
    "    Flatten,\n",
    "    Input,\n",
    "    MaxPooling2D,\n",
    "    ReLU,\n",
    ")\n",
    "from tensorflow.keras.models import Model"
   ]
  },
  {
   "cell_type": "code",
   "execution_count": 2,
   "id": "2",
   "metadata": {},
   "outputs": [],
   "source": [
    "from config import input_shape, input_shape_mf"
   ]
  },
  {
   "cell_type": "code",
   "execution_count": 3,
   "id": "3",
   "metadata": {},
   "outputs": [],
   "source": [
    "import tensorflow.keras.backend as K\n",
    "\n",
    "K.set_image_data_format(\"channels_last\")"
   ]
  },
  {
   "cell_type": "code",
   "execution_count": 4,
   "id": "4",
   "metadata": {},
   "outputs": [],
   "source": [
    "model_name = \"CNN_lyskamm_energy_electron\""
   ]
  },
  {
   "cell_type": "code",
   "execution_count": 5,
   "id": "5",
   "metadata": {},
   "outputs": [
    {
     "name": "stderr",
     "output_type": "stream",
     "text": [
      "2025-02-11 20:47:34.654397: I external/local_xla/xla/stream_executor/cuda/cuda_executor.cc:998] successful NUMA node read from SysFS had negative value (-1), but there must be at least one NUMA node, so returning NUMA node zero. See more at https://github.com/torvalds/linux/blob/v6.0/Documentation/ABI/testing/sysfs-bus-pci#L344-L355\n",
      "2025-02-11 20:47:34.955786: I external/local_xla/xla/stream_executor/cuda/cuda_executor.cc:998] successful NUMA node read from SysFS had negative value (-1), but there must be at least one NUMA node, so returning NUMA node zero. See more at https://github.com/torvalds/linux/blob/v6.0/Documentation/ABI/testing/sysfs-bus-pci#L344-L355\n",
      "2025-02-11 20:47:34.956090: I external/local_xla/xla/stream_executor/cuda/cuda_executor.cc:998] successful NUMA node read from SysFS had negative value (-1), but there must be at least one NUMA node, so returning NUMA node zero. See more at https://github.com/torvalds/linux/blob/v6.0/Documentation/ABI/testing/sysfs-bus-pci#L344-L355\n",
      "2025-02-11 20:47:34.959644: I external/local_xla/xla/stream_executor/cuda/cuda_executor.cc:998] successful NUMA node read from SysFS had negative value (-1), but there must be at least one NUMA node, so returning NUMA node zero. See more at https://github.com/torvalds/linux/blob/v6.0/Documentation/ABI/testing/sysfs-bus-pci#L344-L355\n",
      "2025-02-11 20:47:34.959913: I external/local_xla/xla/stream_executor/cuda/cuda_executor.cc:998] successful NUMA node read from SysFS had negative value (-1), but there must be at least one NUMA node, so returning NUMA node zero. See more at https://github.com/torvalds/linux/blob/v6.0/Documentation/ABI/testing/sysfs-bus-pci#L344-L355\n",
      "2025-02-11 20:47:34.960123: I external/local_xla/xla/stream_executor/cuda/cuda_executor.cc:998] successful NUMA node read from SysFS had negative value (-1), but there must be at least one NUMA node, so returning NUMA node zero. See more at https://github.com/torvalds/linux/blob/v6.0/Documentation/ABI/testing/sysfs-bus-pci#L344-L355\n",
      "2025-02-11 20:47:35.033432: I external/local_xla/xla/stream_executor/cuda/cuda_executor.cc:998] successful NUMA node read from SysFS had negative value (-1), but there must be at least one NUMA node, so returning NUMA node zero. See more at https://github.com/torvalds/linux/blob/v6.0/Documentation/ABI/testing/sysfs-bus-pci#L344-L355\n",
      "2025-02-11 20:47:35.033680: I external/local_xla/xla/stream_executor/cuda/cuda_executor.cc:998] successful NUMA node read from SysFS had negative value (-1), but there must be at least one NUMA node, so returning NUMA node zero. See more at https://github.com/torvalds/linux/blob/v6.0/Documentation/ABI/testing/sysfs-bus-pci#L344-L355\n",
      "2025-02-11 20:47:35.033899: I external/local_xla/xla/stream_executor/cuda/cuda_executor.cc:998] successful NUMA node read from SysFS had negative value (-1), but there must be at least one NUMA node, so returning NUMA node zero. See more at https://github.com/torvalds/linux/blob/v6.0/Documentation/ABI/testing/sysfs-bus-pci#L344-L355\n",
      "2025-02-11 20:47:35.034440: I tensorflow/core/common_runtime/gpu/gpu_device.cc:1928] Created device /job:localhost/replica:0/task:0/device:GPU:0 with 38550 MB memory:  -> device: 0, name: NVIDIA A100-PCIE-40GB, pci bus id: 0000:00:06.0, compute capability: 8.0\n"
     ]
    }
   ],
   "source": [
    "drop_middle = 0.25\n",
    "\n",
    "lr = 2e-4\n",
    "\n",
    "# AdvTarget\n",
    "\n",
    "target_h_input = Input(input_shape, name=\"target_h_in\")\n",
    "X_h = Conv2D(16, kernel_size=(1, 9), padding=\"same\")(target_h_input)\n",
    "X_h = BatchNormalization()(X_h)\n",
    "X_h = ReLU()(X_h)\n",
    "X_h = MaxPooling2D(pool_size=(2, 4), padding=\"valid\")(X_h)\n",
    "X_h = Dropout(rate=drop_middle)(X_h)\n",
    "\n",
    "X_h = Conv2D(16, kernel_size=(3, 3), padding=\"same\")(X_h)\n",
    "X_h = BatchNormalization()(X_h)\n",
    "X_h = ReLU()(X_h)\n",
    "X_h = MaxPooling2D(pool_size=(2, 4), padding=\"valid\")(X_h)\n",
    "X_h = Dropout(rate=drop_middle)(X_h)\n",
    "\n",
    "X_h = Conv2D(16, kernel_size=(3, 3), padding=\"same\")(X_h)\n",
    "X_h = BatchNormalization()(X_h)\n",
    "X_h = ReLU()(X_h)\n",
    "X_h = MaxPooling2D(pool_size=(2, 4), padding=\"valid\")(X_h)\n",
    "X_h = Dropout(rate=drop_middle)(X_h)\n",
    "\n",
    "X_h = Conv2D(16, kernel_size=(3, 3), padding=\"same\")(X_h)\n",
    "X_h = BatchNormalization()(X_h)\n",
    "X_h = ReLU()(X_h)\n",
    "X_h = MaxPooling2D(pool_size=(2, 2), padding=\"same\")(X_h)\n",
    "\n",
    "X_h = Flatten()(X_h)\n",
    "\n",
    "target_v_input = Input(input_shape, name=\"target_v_in\")\n",
    "X_v = Conv2D(16, kernel_size=(1, 9), padding=\"same\")(target_v_input)\n",
    "X_v = BatchNormalization()(X_v)\n",
    "X_v = ReLU()(X_v)\n",
    "X_v = MaxPooling2D(pool_size=(2, 4), padding=\"valid\")(X_v)\n",
    "X_v = Dropout(rate=drop_middle)(X_v)\n",
    "\n",
    "X_v = Conv2D(16, kernel_size=(3, 3), padding=\"same\")(X_v)\n",
    "X_v = BatchNormalization()(X_v)\n",
    "X_v = ReLU()(X_v)\n",
    "X_v = MaxPooling2D(pool_size=(2, 4), padding=\"valid\")(X_v)\n",
    "X_v = Dropout(rate=drop_middle)(X_v)\n",
    "\n",
    "X_v = Conv2D(16, kernel_size=(3, 3), padding=\"same\")(X_v)\n",
    "X_v = BatchNormalization()(X_v)\n",
    "X_v = ReLU()(X_v)\n",
    "X_v = MaxPooling2D(pool_size=(2, 4), padding=\"valid\")(X_v)\n",
    "X_v = Dropout(rate=drop_middle)(X_v)\n",
    "\n",
    "X_v = Conv2D(16, kernel_size=(3, 3), padding=\"same\")(X_v)\n",
    "X_v = BatchNormalization()(X_v)\n",
    "X_v = ReLU()(X_v)\n",
    "X_v = MaxPooling2D(pool_size=(2, 2), padding=\"same\")(X_v)\n",
    "\n",
    "X_v = Flatten()(X_v)\n",
    "\n",
    "# AdvTarget\n",
    "\n",
    "mufilter_h_input = Input(input_shape_mf, name=\"mufilter_h_in\")\n",
    "X_mf_h = Conv2D(16, kernel_size=(1, 3), padding=\"same\")(mufilter_h_input)\n",
    "X_mf_h = BatchNormalization()(X_mf_h)\n",
    "X_mf_h = ReLU()(X_mf_h)\n",
    "X_mf_h = MaxPooling2D(pool_size=(1, 4), padding=\"valid\")(X_mf_h)\n",
    "X_mf_h = Dropout(rate=drop_middle)(X_mf_h)\n",
    "\n",
    "X_mf_h = Conv2D(16, kernel_size=(3, 3), padding=\"same\")(X_mf_h)\n",
    "X_mf_h = BatchNormalization()(X_mf_h)\n",
    "X_mf_h = ReLU()(X_mf_h)\n",
    "X_mf_h = MaxPooling2D(pool_size=(2, 4), padding=\"valid\")(X_mf_h)\n",
    "X_mf_h = Dropout(rate=drop_middle)(X_mf_h)\n",
    "\n",
    "X_mf_h = Conv2D(16, kernel_size=(3, 3), padding=\"same\")(X_mf_h)\n",
    "X_mf_h = BatchNormalization()(X_mf_h)\n",
    "X_mf_h = ReLU()(X_mf_h)\n",
    "X_mf_h = MaxPooling2D(pool_size=(2, 4), padding=\"valid\")(X_mf_h)\n",
    "X_mf_h = Dropout(rate=drop_middle)(X_mf_h)\n",
    "\n",
    "X_mf_h = Conv2D(16, kernel_size=(3, 3), padding=\"same\")(X_mf_h)\n",
    "X_mf_h = BatchNormalization()(X_mf_h)\n",
    "X_mf_h = ReLU()(X_mf_h)\n",
    "X_mf_h = MaxPooling2D(pool_size=(2, 2), padding=\"same\")(X_mf_h)\n",
    "\n",
    "X_mf_h = Flatten()(X_mf_h)\n",
    "\n",
    "X = Concatenate()([X_h, X_v, X_mf_h])\n",
    "X = Dense(3)(X)\n",
    "X = BatchNormalization()(X)\n",
    "X = ReLU()(X)\n",
    "X = Dense(20)(X)\n",
    "X = BatchNormalization()(X)\n",
    "X = ReLU()(X)\n",
    "X = Dropout(rate=0.2)(X)\n",
    "X = Dense(1)(X)\n",
    "\n",
    "model = Model(\n",
    "    inputs=[target_h_input, target_v_input, mufilter_h_input],\n",
    "    outputs=X,\n",
    "    name=model_name,\n",
    ")\n",
    "\n",
    "K.clear_session()\n",
    "\n",
    "model.compile(\n",
    "    optimizer=\"Adam\",\n",
    "    loss=\"mse\",\n",
    "    metrics=[\n",
    "        \"mae\",\n",
    "    ],\n",
    ")"
   ]
  },
  {
   "cell_type": "code",
   "execution_count": 6,
   "id": "6",
   "metadata": {},
   "outputs": [],
   "source": [
    "model.save(f\"{model_name}_e0.keras\")"
   ]
  }
 ],
 "metadata": {
  "kernelspec": {
   "display_name": "Python 3",
   "language": "python",
   "name": "python3"
  },
  "language_info": {
   "codemirror_mode": {
    "name": "ipython",
    "version": 3
   },
   "file_extension": ".py",
   "mimetype": "text/x-python",
   "name": "python",
   "nbconvert_exporter": "python",
   "pygments_lexer": "ipython3",
   "version": "3.11.9"
  }
 },
 "nbformat": 4,
 "nbformat_minor": 5
}
