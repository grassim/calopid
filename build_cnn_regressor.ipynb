{
 "cells": [
  {
   "cell_type": "markdown",
   "id": "0",
   "metadata": {},
   "source": [
    "# CNN for AdvSND energy reconstruction"
   ]
  },
  {
   "cell_type": "code",
   "execution_count": null,
   "id": "1",
   "metadata": {
    "tags": []
   },
   "outputs": [],
   "source": [
    "import tensorflow as tf\n",
    "import tensorflow.keras.backend as K\n",
    "from tensorflow.keras.layers import (\n",
    "    Add,\n",
    "    BatchNormalization,\n",
    "    Concatenate,\n",
    "    Conv2D,\n",
    "    Dense,\n",
    "    Dropout,\n",
    "    Flatten,\n",
    "    Input,\n",
    "    Lambda,\n",
    "    MaxPooling2D,\n",
    "    RandomFlip,\n",
    "    ReLU,\n",
    ")\n",
    "from tensorflow.keras.models import Model\n",
    "\n",
    "from CBAM3D import CBAM\n",
    "from config import input_shape, input_shape_mf\n",
    "from losses import normalised_mse"
   ]
  },
  {
   "cell_type": "code",
   "execution_count": null,
   "id": "2",
   "metadata": {},
   "outputs": [],
   "source": [
    "K.set_image_data_format(\"channels_last\")"
   ]
  },
  {
   "cell_type": "code",
   "execution_count": null,
   "id": "3",
   "metadata": {},
   "outputs": [],
   "source": [
    "model_name = \"CNN_nadelhorn-nmse-5-flip_energy_combined\""
   ]
  },
  {
   "cell_type": "code",
   "execution_count": null,
   "id": "4",
   "metadata": {},
   "outputs": [],
   "source": [
    "def res_block(inputs):\n",
    "    x = Conv2D(16, 3, padding=\"same\")(inputs)\n",
    "    x = BatchNormalization()(x)\n",
    "    x = ReLU()(x)\n",
    "    x = Conv2D(16, 3, padding=\"same\")(x)\n",
    "    x = BatchNormalization()(x)\n",
    "    return Add()([inputs, x])"
   ]
  },
  {
   "cell_type": "code",
   "execution_count": null,
   "id": "5",
   "metadata": {},
   "outputs": [],
   "source": [
    "def conv_model(inputs, drop_middle=0.25, add_CBAM=False):\n",
    "    x = Conv2D(16, kernel_size=(1, 9), padding=\"same\")(inputs)\n",
    "    x = BatchNormalization()(x)\n",
    "    x = ReLU()(x)\n",
    "    if add_CBAM:\n",
    "        x = CBAM()(X)\n",
    "    x = MaxPooling2D(pool_size=(2, 4), padding=\"valid\")(x)\n",
    "    x = Dropout(rate=drop_middle)(x)\n",
    "\n",
    "    x = Conv2D(16, kernel_size=(3, 3), padding=\"same\")(x)\n",
    "    x = BatchNormalization()(x)\n",
    "    x = ReLU()(x)\n",
    "    if add_CBAM:\n",
    "        x = CBAM()(X)\n",
    "    x = MaxPooling2D(pool_size=(2, 4), padding=\"valid\")(x)\n",
    "    x = Dropout(rate=drop_middle)(x)\n",
    "\n",
    "    x = Conv2D(16, kernel_size=(3, 3), padding=\"same\")(x)\n",
    "    x = BatchNormalization()(x)\n",
    "    x = ReLU()(x)\n",
    "    if add_CBAM:\n",
    "        x = CBAM()(X)\n",
    "    x = MaxPooling2D(pool_size=(2, 4), padding=\"valid\")(x)\n",
    "    x = Dropout(rate=drop_middle)(x)\n",
    "\n",
    "    x = Conv2D(16, kernel_size=(3, 3), padding=\"same\")(x)\n",
    "    x = BatchNormalization()(x)\n",
    "    x = ReLU()(x)\n",
    "    if add_CBAM:\n",
    "        x = CBAM()(X)\n",
    "    x = MaxPooling2D(pool_size=(2, 2), padding=\"valid\")(x)\n",
    "    return x"
   ]
  },
  {
   "cell_type": "code",
   "execution_count": null,
   "id": "6",
   "metadata": {},
   "outputs": [],
   "source": [
    "def res_net(inputs, depth=5):\n",
    "    x = res_block(inputs)\n",
    "    for i in range(depth - 1):\n",
    "        x = res_block(x)\n",
    "    return x"
   ]
  },
  {
   "cell_type": "code",
   "execution_count": null,
   "id": "7",
   "metadata": {},
   "outputs": [],
   "source": [
    "def sum_input(input):\n",
    "    x = Flatten()(input)\n",
    "    return Lambda(\n",
    "        lambda x: tf.reduce_sum(x, axis=1, keep_dims=True), output_shape=(1, 1, 1)\n",
    "    )(x)"
   ]
  },
  {
   "cell_type": "code",
   "execution_count": null,
   "id": "8",
   "metadata": {},
   "outputs": [],
   "source": [
    "# def output_block(inputs):\n",
    "#    return Dense(1)(inputs)"
   ]
  },
  {
   "cell_type": "code",
   "execution_count": null,
   "id": "9",
   "metadata": {},
   "outputs": [],
   "source": [
    "def output_block(inputs):\n",
    "    X = Dense(3)(inputs)\n",
    "    X = BatchNormalization()(X)\n",
    "    X = ReLU()(X)\n",
    "    X = Dense(20)(X)\n",
    "    X = BatchNormalization()(X)\n",
    "    X = ReLU()(X)\n",
    "    X = Dropout(rate=0.2)(X)\n",
    "    return Dense(1)(X)"
   ]
  },
  {
   "cell_type": "code",
   "execution_count": null,
   "id": "10",
   "metadata": {},
   "outputs": [],
   "source": [
    "lr = 2e-4\n",
    "\n",
    "target_h_input = Input(input_shape, name=\"target_h_in\")\n",
    "# x_h = res_net(target_h_input)\n",
    "x_h = RandomFlip(mode=\"vertical\", seed=42)(target_h_input)\n",
    "x_h = res_net(x_h)\n",
    "x_h = Flatten()(x_h)\n",
    "\n",
    "target_v_input = Input(input_shape, name=\"target_v_in\")\n",
    "# x_v = res_net(target_v_input)\n",
    "x_v = RandomFlip(mode=\"vertical\", seed=42)(\n",
    "    target_v_input\n",
    ")  # TODO check whether we can relax seed for one target view\n",
    "x_v = res_net(x_v)\n",
    "x_v = Flatten()(x_v)\n",
    "\n",
    "mufilter_input = Input(input_shape_mf, name=\"mufilter_in\")\n",
    "# x_mf = res_net(mufilter_input)\n",
    "x_mf = RandomFlip(mode=\"vertical\", seed=42)(mufilter_input)\n",
    "x_mf = res_net(x_mf)\n",
    "x_mf = Flatten()(x_mf)\n",
    "\n",
    "X = Concatenate()([x_h, x_v, x_mf])\n",
    "# X = x_mf\n",
    "\n",
    "# sum_h = sum_input(target_h_input)\n",
    "# sum_v = sum_input(target_v_input)\n",
    "# sum_mf = sum_input(mufilter_input)\n",
    "\n",
    "\n",
    "# feats = Concatenate()([sum_h, sum_v, sum_mf])\n",
    "# X = Dense(3)(X)\n",
    "# X = Concatenate()([X, feats])\n",
    "X = output_block(X)\n",
    "\n",
    "model = Model(\n",
    "    inputs=[target_h_input, target_v_input, mufilter_input],\n",
    "    outputs=X,\n",
    "    name=model_name,\n",
    ")\n",
    "\n",
    "K.clear_session()\n",
    "\n",
    "model.compile(\n",
    "    optimizer=\"Adam\",\n",
    "    loss=normalised_mse,\n",
    "    metrics=[\n",
    "        \"mae\",\n",
    "    ],\n",
    ")"
   ]
  },
  {
   "cell_type": "code",
   "execution_count": null,
   "id": "11",
   "metadata": {},
   "outputs": [],
   "source": [
    "model.save(f\"{model_name}_e0.keras\")"
   ]
  },
  {
   "cell_type": "code",
   "execution_count": null,
   "id": "12",
   "metadata": {},
   "outputs": [],
   "source": []
  }
 ],
 "metadata": {
  "kernelspec": {
   "display_name": "Python 3",
   "language": "python",
   "name": "python3"
  },
  "language_info": {
   "codemirror_mode": {
    "name": "ipython",
    "version": 3
   },
   "file_extension": ".py",
   "mimetype": "text/x-python",
   "name": "python",
   "nbconvert_exporter": "python",
   "pygments_lexer": "ipython3",
   "version": "3.11.9"
  }
 },
 "nbformat": 4,
 "nbformat_minor": 5
}
