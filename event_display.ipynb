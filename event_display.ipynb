{
 "cells": [
  {
   "cell_type": "code",
   "execution_count": null,
   "id": "0",
   "metadata": {},
   "outputs": [],
   "source": [
    "import matplotlib.pyplot as plt\n",
    "import scienceplots  # noqa: F401\n",
    "import uproot"
   ]
  },
  {
   "cell_type": "code",
   "execution_count": null,
   "id": "1",
   "metadata": {},
   "outputs": [],
   "source": [
    "plt.style.use(\"science\")"
   ]
  },
  {
   "cell_type": "code",
   "execution_count": null,
   "id": "2",
   "metadata": {},
   "outputs": [],
   "source": [
    "plt.rcParams[\"font.size\"] = 18\n",
    "plt.rcParams[\"axes.formatter.limits\"] = -5, 4\n",
    "plt.rcParams[\"figure.figsize\"] = 6, 4\n",
    "colors = plt.rcParams[\"axes.prop_cycle\"].by_key()[\"color\"]"
   ]
  },
  {
   "cell_type": "code",
   "execution_count": null,
   "id": "3",
   "metadata": {},
   "outputs": [],
   "source": [
    "events = uproot.open(\"df_electron_fixz_sat7_test.root:df\")"
   ]
  },
  {
   "cell_type": "code",
   "execution_count": null,
   "id": "4",
   "metadata": {},
   "outputs": [],
   "source": [
    "def plot_event(X_target, X_mufilter, event, *, save=False, energy=None):\n",
    "    fig, axes = plt.subplots(2, 2, sharex=\"col\", sharey=True)\n",
    "    plt.tight_layout(h_pad=0, w_pad=0)\n",
    "\n",
    "    if energy:\n",
    "        plt.suptitle(rf\"$E={energy}\\;\\mathrm{{GeV}}$\")\n",
    "    axes[0, 0].imshow(X_target[:, ::2], aspect=\"auto\", cmap=\"Blues\")\n",
    "    axes[0, 0].set_ylabel(\"channel\")\n",
    "    axes[0, 0].set_title(\"Target\")\n",
    "    axes[1, 0].imshow(X_target[:, 1::2], aspect=\"auto\", cmap=\"Blues\")\n",
    "    axes[1, 0].set_ylabel(\"channel\")\n",
    "    axes[1, 0].set_xlabel(\"station\")\n",
    "\n",
    "    axes[0, 1].imshow(X_mufilter, aspect=\"auto\", cmap=\"Blues\")\n",
    "    axes[0, 1].set_title(\"HCAL\")\n",
    "    # axes[1, 1].imshow(X_mufilter[event][:, 1::2], aspect=\"auto\", cmap=\"Blues\")\n",
    "    axes[1, 1].set_xlabel(\"station\")\n",
    "    if save:\n",
    "        fig.savefig(f\"plots/ed_electron_PG_fiducial_event_{event}.png\")\n",
    "        fig.savefig(f\"plots/ed_electron_PG_muonic_fiducial_event_{event}.pdf\")"
   ]
  },
  {
   "cell_type": "code",
   "execution_count": null,
   "id": "5",
   "metadata": {},
   "outputs": [],
   "source": []
  },
  {
   "cell_type": "code",
   "execution_count": null,
   "id": "6",
   "metadata": {},
   "outputs": [],
   "source": [
    "event = 0\n",
    "for batch, report in events.iterate(step_size=\"1MB\", library=\"pd\", report=True):\n",
    "    batch_size = report.stop - report.start\n",
    "    for X, X_mufilter, energy in zip(\n",
    "        batch[\"X\"], batch[\"X_mufilter\"], batch[\"nu_energy\"]\n",
    "    ):\n",
    "        plot_event(X, X_mufilter, event, save=True, energy=None)\n",
    "        break\n",
    "        event += 1\n",
    "    break"
   ]
  },
  {
   "cell_type": "code",
   "execution_count": null,
   "id": "7",
   "metadata": {},
   "outputs": [],
   "source": []
  }
 ],
 "metadata": {
  "kernelspec": {
   "display_name": "Python 3",
   "language": "python",
   "name": "python3"
  },
  "language_info": {
   "codemirror_mode": {
    "name": "ipython",
    "version": 3
   },
   "file_extension": ".py",
   "mimetype": "text/x-python",
   "name": "python",
   "nbconvert_exporter": "python",
   "pygments_lexer": "ipython3",
   "version": "3.11.9"
  }
 },
 "nbformat": 4,
 "nbformat_minor": 5
}
