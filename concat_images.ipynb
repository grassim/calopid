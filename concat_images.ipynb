{
 "cells": [
  {
   "cell_type": "code",
   "execution_count": null,
   "id": "0",
   "metadata": {},
   "outputs": [],
   "source": [
    "import numpy as np\n",
    "import pandas as pd\n",
    "import uproot\n",
    "from tqdm import tqdm"
   ]
  },
  {
   "cell_type": "code",
   "execution_count": null,
   "id": "1",
   "metadata": {},
   "outputs": [],
   "source": [
    "data_path = \"/eos/experiment/sndlhc/users/olantwin/advsnd/2024/07/nu12/CCDIS/\""
   ]
  },
  {
   "cell_type": "code",
   "execution_count": null,
   "id": "2",
   "metadata": {},
   "outputs": [],
   "source": [
    "n_files = 100\n",
    "events_per_file = 1000\n",
    "events = n_files * events_per_file"
   ]
  },
  {
   "cell_type": "code",
   "execution_count": null,
   "id": "3",
   "metadata": {},
   "outputs": [],
   "source": [
    "outputfile = uproot.recreate(f\"CNN_dataframe_{events}.root\")"
   ]
  },
  {
   "cell_type": "code",
   "execution_count": null,
   "id": "4",
   "metadata": {},
   "outputs": [],
   "source": [
    "outputfile.mktree(\n",
    "    \"df\",\n",
    "    {\n",
    "        \"X\": (\">f8\", (3072, 200)),\n",
    "        \"start_z\": \">f8\",\n",
    "        \"nu_energy\": \">f8\",\n",
    "        \"energy_dep_target\": \">f8\",\n",
    "        \"energy_dep_mufilter\": \">f8\",\n",
    "    },\n",
    "    title=\"Dataframe for CNN studies\",\n",
    ")"
   ]
  },
  {
   "cell_type": "code",
   "execution_count": null,
   "id": "5",
   "metadata": {},
   "outputs": [],
   "source": [
    "step = 5\n",
    "for i in tqdm(range(1, n_files + 1)):\n",
    "    arrays = np.load(data_path + f\"images_1000_{i}.npy\")\n",
    "    df = pd.read_csv(data_path + f\"features_CNN_1000_{i}.csv\")\n",
    "    for j in range(0, len(df), step):\n",
    "        outputfile[\"df\"].extend(\n",
    "            {\n",
    "                \"X\": arrays[j : j + step],\n",
    "                \"start_z\": df.start_z.values[j : j + step],\n",
    "                \"nu_energy\": df.nu_energy.values[j : j + step],\n",
    "                \"energy_dep_target\": df.energy_dep_target.values[j : j + step],\n",
    "                \"energy_dep_mufilter\": df.energy_dep_mufilter.values[j : j + step],\n",
    "            }\n",
    "        )\n",
    "    del df\n",
    "    del arrays"
   ]
  },
  {
   "cell_type": "code",
   "execution_count": null,
   "id": "6",
   "metadata": {},
   "outputs": [],
   "source": [
    "!xrdcp CNN_dataframe_100000.root root://eospublic.cern.ch//eos/experiment/sndlhc/users/olantwin/advsnd/2024/07/nu12/CCDIS/"
   ]
  },
  {
   "cell_type": "code",
   "execution_count": null,
   "id": "7",
   "metadata": {},
   "outputs": [],
   "source": []
  }
 ],
 "metadata": {
  "kernelspec": {
   "display_name": "Python 3",
   "language": "python",
   "name": "python3"
  },
  "language_info": {
   "codemirror_mode": {
    "name": "ipython",
    "version": 3
   },
   "file_extension": ".py",
   "mimetype": "text/x-python",
   "name": "python",
   "nbconvert_exporter": "python",
   "pygments_lexer": "ipython3",
   "version": "3.9.12"
  }
 },
 "nbformat": 4,
 "nbformat_minor": 5
}
