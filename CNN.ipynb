{
 "cells": [
  {
   "cell_type": "markdown",
   "id": "0",
   "metadata": {},
   "source": [
    "# CNN for AdvSND target energy reconstruction"
   ]
  },
  {
   "cell_type": "code",
   "execution_count": null,
   "id": "1",
   "metadata": {},
   "outputs": [],
   "source": [
    "import numpy as np"
   ]
  },
  {
   "cell_type": "code",
   "execution_count": null,
   "id": "2",
   "metadata": {},
   "outputs": [],
   "source": [
    "import pandas as pd"
   ]
  },
  {
   "cell_type": "code",
   "execution_count": null,
   "id": "3",
   "metadata": {},
   "outputs": [],
   "source": [
    "import hist\n",
    "import matplotlib.pyplot as plt\n",
    "\n",
    "plt.style.use([\"science\", \"notebook\"])"
   ]
  },
  {
   "cell_type": "code",
   "execution_count": null,
   "id": "4",
   "metadata": {},
   "outputs": [],
   "source": [
    "plt.rcParams[\"font.size\"] = 14\n",
    "plt.rcParams[\"axes.formatter.limits\"] = -5, 4\n",
    "plt.rcParams[\"figure.figsize\"] = 6, 4\n",
    "colors = plt.rcParams[\"axes.prop_cycle\"].by_key()[\"color\"]"
   ]
  },
  {
   "cell_type": "code",
   "execution_count": null,
   "id": "5",
   "metadata": {},
   "outputs": [],
   "source": [
    "import plotting"
   ]
  },
  {
   "cell_type": "code",
   "execution_count": null,
   "id": "6",
   "metadata": {},
   "outputs": [],
   "source": [
    "df = pd.read_csv(\"features_new.csv\")"
   ]
  },
  {
   "cell_type": "code",
   "execution_count": null,
   "id": "7",
   "metadata": {},
   "outputs": [],
   "source": [
    "hitmaps = np.load(\"images_1000.npy\")"
   ]
  },
  {
   "cell_type": "code",
   "execution_count": null,
   "id": "8",
   "metadata": {},
   "outputs": [],
   "source": [
    "nu_energy_dep_target = df.pop(\"energy_dep_target\").values\n",
    "\n",
    "nu_energy_dep_target = nu_energy_dep_target[:1000]"
   ]
  },
  {
   "cell_type": "code",
   "execution_count": null,
   "id": "9",
   "metadata": {},
   "outputs": [],
   "source": [
    "start_z = df.pop(\"start_z\").values\n",
    "\n",
    "start_z = start_z[:1000]"
   ]
  },
  {
   "cell_type": "code",
   "execution_count": null,
   "id": "10",
   "metadata": {},
   "outputs": [],
   "source": [
    "y = start_z"
   ]
  },
  {
   "cell_type": "code",
   "execution_count": null,
   "id": "11",
   "metadata": {},
   "outputs": [],
   "source": [
    "from sklearn.model_selection import train_test_split"
   ]
  },
  {
   "cell_type": "code",
   "execution_count": null,
   "id": "12",
   "metadata": {},
   "outputs": [],
   "source": [
    "import matplotlib.pyplot as plt"
   ]
  },
  {
   "cell_type": "code",
   "execution_count": null,
   "id": "13",
   "metadata": {},
   "outputs": [],
   "source": [
    "hitmaps_v = hitmaps[:, :, ::2]\n",
    "hitmaps_h = hitmaps[:, :, 1::2]"
   ]
  },
  {
   "cell_type": "code",
   "execution_count": null,
   "id": "14",
   "metadata": {},
   "outputs": [],
   "source": [
    "hitmaps_v_T = np.swapaxes(hitmaps_v, 1, 2)\n",
    "hitmaps_h_T = np.swapaxes(hitmaps_h, 1, 2)"
   ]
  },
  {
   "cell_type": "code",
   "execution_count": null,
   "id": "15",
   "metadata": {},
   "outputs": [],
   "source": [
    "target_X_v = np.expand_dims(hitmaps_v_T, 3)\n",
    "target_X_h = np.expand_dims(hitmaps_h_T, 3)"
   ]
  },
  {
   "cell_type": "code",
   "execution_count": null,
   "id": "16",
   "metadata": {},
   "outputs": [],
   "source": [
    "X_h_train, X_h_test, X_v_train, X_v_test, y_train, y_test = train_test_split(\n",
    "    target_X_h, target_X_v, y, random_state=0\n",
    ")"
   ]
  },
  {
   "cell_type": "code",
   "execution_count": null,
   "id": "17",
   "metadata": {},
   "outputs": [],
   "source": [
    "event = 7\n",
    "fig, (ax1, ax2) = plt.subplots(1, 2, sharey=True)\n",
    "fig.suptitle(\"CNN input image\")\n",
    "fig.subplots_adjust(wspace=0)\n",
    "ax1.imshow(hitmaps_h[event], aspect=0.05)\n",
    "ax1.set_ylabel(\"Channel\")\n",
    "\n",
    "ax2.imshow(hitmaps_v[event], aspect=0.05)\n",
    "\n",
    "ax1.set_xlabel(\"Station\")\n",
    "ax2.set_xlabel(\"Station\")\n",
    "fig.savefig(f\"plots/CNN_input_event_{event}.pdf\")\n",
    "fig.savefig(f\"plots/CNN_input_event_{event}.png\")"
   ]
  },
  {
   "cell_type": "code",
   "execution_count": null,
   "id": "18",
   "metadata": {
    "tags": []
   },
   "outputs": [],
   "source": [
    "import matplotlib.pyplot as plt\n",
    "\n",
    "import tensorflow as tf\n",
    "import tensorflow.keras\n",
    "from tensorflow.keras.layers import Input, Dense, Flatten\n",
    "from tensorflow.keras.layers import Conv2D, MaxPooling2D, Dropout, Concatenate\n",
    "import tensorflow.keras.optimizers\n",
    "import tensorflow.keras.metrics\n",
    "import tensorflow.keras.losses\n",
    "from tensorflow.keras.models import Model\n",
    "\n",
    "import tensorflow.keras.backend as K\n",
    "\n",
    "K.set_image_data_format(\"channels_last\")"
   ]
  },
  {
   "cell_type": "code",
   "execution_count": null,
   "id": "19",
   "metadata": {
    "tags": []
   },
   "outputs": [],
   "source": [
    "drop_middle = 0.5\n",
    "target_shape = (100, 3072, 1)\n",
    "\n",
    "lr = 2e-4  # ; betaa1=30; betaa2=100; decay=1e-3\n",
    "\n",
    "# AdvTarget\n",
    "\n",
    "target_h_input = Input(target_shape, name=\"target_h_in\")\n",
    "X_h = Conv2D(\n",
    "    16, kernel_size=(3, 4), padding=\"same\", activation=\"elu\", name=\"target_h_conv1_1\"\n",
    ")(target_h_input)\n",
    "X_h = Conv2D(\n",
    "    16, kernel_size=(3, 4), padding=\"same\", activation=\"elu\", name=\"target_h_conv1_2\"\n",
    ")(X_h)\n",
    "X_h = MaxPooling2D(pool_size=(1, 4), padding=\"valid\", name=\"target_h_pool1\")(X_h)\n",
    "\n",
    "X_h = Conv2D(\n",
    "    32, kernel_size=(3, 4), padding=\"same\", activation=\"elu\", name=\"target_h_conv2_1\"\n",
    ")(X_h)\n",
    "X_h = MaxPooling2D(pool_size=(1, 4), padding=\"valid\", name=\"target_h_pool2\")(X_h)\n",
    "\n",
    "X_h = Dropout(rate=drop_middle, name=\"target_h_drop_middle\")(X_h)\n",
    "\n",
    "X_h = Conv2D(\n",
    "    32, kernel_size=(3, 4), padding=\"same\", activation=\"elu\", name=\"target_h_conv3_1\"\n",
    ")(X_h)\n",
    "X_h = MaxPooling2D(pool_size=(1, 2), padding=\"valid\", name=\"target_h_pool3\")(X_h)\n",
    "\n",
    "X_h = Conv2D(\n",
    "    64, kernel_size=(3, 3), padding=\"same\", activation=\"elu\", name=\"target_h_conv4_1\"\n",
    ")(X_h)\n",
    "X_h = Conv2D(\n",
    "    64, kernel_size=(3, 3), padding=\"same\", activation=\"elu\", name=\"target_h_conv4_2\"\n",
    ")(X_h)\n",
    "X_h = MaxPooling2D(pool_size=(2, 2), padding=\"same\", name=\"target_h_pool4\")(X_h)\n",
    "X_h = Flatten()(X_h)\n",
    "\n",
    "target_v_input = Input(target_shape, name=\"target_v_in\")\n",
    "X_v = Conv2D(\n",
    "    16, kernel_size=(3, 4), padding=\"same\", activation=\"elu\", name=\"target_v_conv1_1\"\n",
    ")(target_v_input)\n",
    "X_v = Conv2D(\n",
    "    16, kernel_size=(3, 4), padding=\"same\", activation=\"elu\", name=\"target_v_conv1_2\"\n",
    ")(X_v)\n",
    "X_v = MaxPooling2D(pool_size=(1, 4), padding=\"valid\", name=\"target_v_pool1\")(X_v)\n",
    "\n",
    "X_v = Conv2D(\n",
    "    32, kernel_size=(3, 4), padding=\"same\", activation=\"elu\", name=\"target_v_conv2_1\"\n",
    ")(X_v)\n",
    "X_v = MaxPooling2D(pool_size=(1, 4), padding=\"valid\", name=\"target_v_pool2\")(X_v)\n",
    "\n",
    "X_v = Dropout(rate=drop_middle, name=\"target_v_drop_middle\")(X_v)\n",
    "\n",
    "X_v = Conv2D(\n",
    "    32, kernel_size=(3, 4), padding=\"same\", activation=\"elu\", name=\"target_v_conv3_1\"\n",
    ")(X_v)\n",
    "X_v = MaxPooling2D(pool_size=(1, 2), padding=\"valid\", name=\"target_v_pool3\")(X_v)\n",
    "\n",
    "X_v = Conv2D(\n",
    "    64, kernel_size=(3, 3), padding=\"same\", activation=\"elu\", name=\"target_v_conv4_1\"\n",
    ")(X_v)\n",
    "X_v = Conv2D(\n",
    "    64, kernel_size=(3, 3), padding=\"same\", activation=\"elu\", name=\"target_v_conv4_2\"\n",
    ")(X_v)\n",
    "X_v = MaxPooling2D(pool_size=(2, 2), padding=\"same\", name=\"target_v_pool4\")(X_v)\n",
    "X_v = Flatten()(X_v)\n",
    "\n",
    "X = Concatenate()([X_h, X_v])\n",
    "X_cl = Dense(1)(X)\n",
    "\n",
    "toy_model = Model(\n",
    "    inputs=[target_h_input, target_v_input], outputs=X_cl, name=\"full_toy_model\"\n",
    ")\n",
    "\n",
    "K.clear_session()\n",
    "\n",
    "adamka = tf.keras.optimizers.Adam(learning_rate=lr)\n",
    "toy_model.compile(optimizer=\"Adam\", loss=\"mse\", metrics=[\"mae\"])"
   ]
  },
  {
   "cell_type": "code",
   "execution_count": null,
   "id": "20",
   "metadata": {},
   "outputs": [],
   "source": [
    "toy_model.summary()"
   ]
  },
  {
   "cell_type": "code",
   "execution_count": null,
   "id": "21",
   "metadata": {
    "tags": []
   },
   "outputs": [],
   "source": [
    "fit_result = toy_model.fit(\n",
    "    x=[X_h_train, X_v_train], y=y_train, batch_size=128, epochs=30\n",
    ")"
   ]
  },
  {
   "cell_type": "code",
   "execution_count": null,
   "id": "22",
   "metadata": {},
   "outputs": [],
   "source": [
    "retoy_model = tf.keras.models.load_model(\"toy_start_z_1000.keras\")"
   ]
  },
  {
   "cell_type": "code",
   "execution_count": null,
   "id": "23",
   "metadata": {},
   "outputs": [],
   "source": [
    "toy_model.save(\"toy_start_z_1000.keras\")"
   ]
  },
  {
   "cell_type": "code",
   "execution_count": null,
   "id": "24",
   "metadata": {
    "tags": []
   },
   "outputs": [],
   "source": [
    "history_df = pd.DataFrame(fit_result.history)\n",
    "fig, ax1 = plt.subplots()\n",
    "ax2 = ax1.twinx()\n",
    "plt.title(\"CNN start z\")\n",
    "history_df.loss.plot(ax=ax1, color=colors[0])\n",
    "ax1.set_xlabel(\"Epochs\")\n",
    "ax1.set_ylabel(\"Loss Function\", color=colors[0])\n",
    "history_df.mae.plot(ax=ax2, color=colors[1])\n",
    "ax2.set_ylabel(\"Error\", color=colors[1])\n",
    "plotting.watermark(\"\")\n",
    "plt.savefig(\"plots/CNN_start_z_epochs.png\")\n",
    "plt.savefig(\"plots/CNN_start_z_epochs.pdf\")"
   ]
  },
  {
   "cell_type": "code",
   "execution_count": null,
   "id": "25",
   "metadata": {
    "tags": []
   },
   "outputs": [],
   "source": [
    "# test=retoy_model.predict(x=[x_test['scifi_h'], x_test['scifi_v'], x_test['us'], x_test['ds']])\n",
    "y_pred = toy_model.predict(x=[X_h_test, X_v_test])"
   ]
  },
  {
   "cell_type": "code",
   "execution_count": null,
   "id": "26",
   "metadata": {},
   "outputs": [],
   "source": [
    "rms = tensorflow.keras.metrics.RootMeanSquaredError()\n",
    "\n",
    "rms.update_state(y_test, y_pred)\n",
    "\n",
    "rms.result()"
   ]
  },
  {
   "cell_type": "code",
   "execution_count": null,
   "id": "27",
   "metadata": {},
   "outputs": [],
   "source": [
    "h = hist.Hist.new.Regular(10, -30, +120, name=r\"𝛥z [cm]\").Double()"
   ]
  },
  {
   "cell_type": "code",
   "execution_count": null,
   "id": "28",
   "metadata": {},
   "outputs": [],
   "source": [
    "h.fill(np.squeeze(y_pred) - np.squeeze(y_test))"
   ]
  },
  {
   "cell_type": "code",
   "execution_count": null,
   "id": "29",
   "metadata": {},
   "outputs": [],
   "source": [
    "import scipy"
   ]
  },
  {
   "cell_type": "code",
   "execution_count": null,
   "id": "30",
   "metadata": {},
   "outputs": [],
   "source": [
    "def model(x, mu, sigma):\n",
    "    return scipy.stats.norm.cdf(x, mu, sigma)"
   ]
  },
  {
   "cell_type": "code",
   "execution_count": null,
   "id": "31",
   "metadata": {},
   "outputs": [],
   "source": [
    "entries, edges = h.to_numpy()"
   ]
  },
  {
   "cell_type": "code",
   "execution_count": null,
   "id": "32",
   "metadata": {},
   "outputs": [],
   "source": [
    "from iminuit import cost\n",
    "from iminuit import Minuit"
   ]
  },
  {
   "cell_type": "code",
   "execution_count": null,
   "id": "33",
   "metadata": {},
   "outputs": [],
   "source": [
    "m = Minuit(cost.BinnedNLL(entries, edges, model), 0, 25)"
   ]
  },
  {
   "cell_type": "code",
   "execution_count": null,
   "id": "34",
   "metadata": {},
   "outputs": [],
   "source": [
    "res = m.migrad()"
   ]
  },
  {
   "cell_type": "code",
   "execution_count": null,
   "id": "35",
   "metadata": {},
   "outputs": [],
   "source": [
    "h.plot()\n",
    "plt.xlabel(r\"$\\Delta z\\;[\\mathrm{cm}]$\")\n",
    "plot_range = edges[0], edges[-1]\n",
    "x = np.linspace(*plot_range, 100)\n",
    "best_fit = scipy.stats.norm(res.params[0].value, res.params[1].value)\n",
    "# best_fit = scipy.stats.norm(0.044, 2.83) # TODO take from fit\n",
    "n_bins = 10\n",
    "binsize = (plot_range[1] - plot_range[0]) / n_bins\n",
    "scale = h.sum() / (best_fit.cdf(plot_range[1]) - best_fit.cdf(plot_range[0])) * binsize\n",
    "plt.plot(x, scale * best_fit.pdf(x))\n",
    "ax = plt.gca()\n",
    "# plt.text(0.6, 0.9, r\"$\\mu = 0.044 $\\;cm\", transform=ax.transAxes, usetex=True)\n",
    "plt.text(\n",
    "    0.6,\n",
    "    0.9,\n",
    "    rf\"$\\mu = {res.params[0].value:.2f} \\pm {res.params[0].error:.2f}$\\;cm\",\n",
    "    transform=ax.transAxes,\n",
    "    usetex=True,\n",
    ")\n",
    "# plt.text(0.6, 0.81, r\"$\\sigma = 2.83 $\\;cm\", transform=ax.transAxes, usetex=True)\n",
    "plt.text(\n",
    "    0.6,\n",
    "    0.81,\n",
    "    rf\"$\\sigma = {res.params[1].value:.2f} \\pm {res.params[1].error:.2f}$\\;cm\",\n",
    "    transform=ax.transAxes,\n",
    "    usetex=True,\n",
    ")\n",
    "plotting.watermark()\n",
    "plt.savefig(\"plots/h_dz_CNN.pdf\")\n",
    "plt.savefig(\"plots/h_dz_CNN.png\")"
   ]
  }
 ],
 "metadata": {
  "kernelspec": {
   "display_name": "Python 3 (ipykernel)",
   "language": "python",
   "name": "python3"
  },
  "language_info": {
   "codemirror_mode": {
    "name": "ipython",
    "version": 3
   },
   "file_extension": ".py",
   "mimetype": "text/x-python",
   "name": "python",
   "nbconvert_exporter": "python",
   "pygments_lexer": "ipython3",
   "version": "3.12.4"
  }
 },
 "nbformat": 4,
 "nbformat_minor": 5
}
